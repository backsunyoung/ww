{
 "cells": [
  {
   "cell_type": "code",
   "execution_count": 1,
   "id": "8c63fda0",
   "metadata": {
    "_cell_guid": "b1076dfc-b9ad-4769-8c92-a6c4dae69d19",
    "_uuid": "8f2839f25d086af736a60e9eeb907d3b93b6e0e5",
    "execution": {
     "iopub.execute_input": "2023-01-23T21:51:09.960576Z",
     "iopub.status.busy": "2023-01-23T21:51:09.959968Z",
     "iopub.status.idle": "2023-01-23T21:51:11.094147Z",
     "shell.execute_reply": "2023-01-23T21:51:11.093118Z"
    },
    "papermill": {
     "duration": 1.15275,
     "end_time": "2023-01-23T21:51:11.096846",
     "exception": false,
     "start_time": "2023-01-23T21:51:09.944096",
     "status": "completed"
    },
    "tags": []
   },
   "outputs": [
    {
     "name": "stdout",
     "output_type": "stream",
     "text": [
      "/kaggle/input/book-recommendation-dataset/Ratings.csv\n",
      "/kaggle/input/book-recommendation-dataset/Users.csv\n",
      "/kaggle/input/book-recommendation-dataset/Books.csv\n"
     ]
    }
   ],
   "source": [
    "# This Python 3 environment comes with many helpful analytics libraries installed\n",
    "# It is defined by the kaggle/python Docker image: https://github.com/kaggle/docker-python\n",
    "# For example, here's several helpful packages to load\n",
    "\n",
    "import numpy as np # linear algebra\n",
    "import pandas as pd # data processing, CSV file I/O (e.g. pd.read_csv)\n",
    "import seaborn as sns\n",
    "import matplotlib.pyplot as plt\n",
    "%matplotlib inline\n",
    "\n",
    "# Input data files are available in the read-only \"../input/\" directory\n",
    "# For example, running this (by clicking run or pressing Shift+Enter) will list all files under the input directory\n",
    "\n",
    "import os\n",
    "for dirname, _, filenames in os.walk('/kaggle/input'):\n",
    "    for filename in filenames:\n",
    "        print(os.path.join(dirname, filename))\n",
    "\n",
    "# You can write up to 20GB to the current directory (/kaggle/working/) that gets preserved as output when you create a version using \"Save & Run All\" \n",
    "# You can also write temporary files to /kaggle/temp/, but they won't be saved outside of the current session"
   ]
  },
  {
   "cell_type": "code",
   "execution_count": 2,
   "id": "658bf728",
   "metadata": {
    "execution": {
     "iopub.execute_input": "2023-01-23T21:51:11.127490Z",
     "iopub.status.busy": "2023-01-23T21:51:11.126167Z",
     "iopub.status.idle": "2023-01-23T21:51:13.861935Z",
     "shell.execute_reply": "2023-01-23T21:51:13.860102Z"
    },
    "papermill": {
     "duration": 2.75594,
     "end_time": "2023-01-23T21:51:13.865406",
     "exception": false,
     "start_time": "2023-01-23T21:51:11.109466",
     "status": "completed"
    },
    "tags": []
   },
   "outputs": [
    {
     "name": "stderr",
     "output_type": "stream",
     "text": [
      "/opt/conda/lib/python3.7/site-packages/IPython/core/interactiveshell.py:3552: DtypeWarning: Columns (3) have mixed types.Specify dtype option on import or set low_memory=False.\n",
      "  exec(code_obj, self.user_global_ns, self.user_ns)\n"
     ]
    }
   ],
   "source": [
    "#read all the input files\n",
    "books = pd.read_csv(\"../input/book-recommendation-dataset/Books.csv\")"
   ]
  },
  {
   "cell_type": "code",
   "execution_count": 3,
   "id": "088ad797",
   "metadata": {
    "execution": {
     "iopub.execute_input": "2023-01-23T21:51:13.893209Z",
     "iopub.status.busy": "2023-01-23T21:51:13.892776Z",
     "iopub.status.idle": "2023-01-23T21:51:15.212550Z",
     "shell.execute_reply": "2023-01-23T21:51:15.211446Z"
    },
    "papermill": {
     "duration": 1.336752,
     "end_time": "2023-01-23T21:51:15.215209",
     "exception": false,
     "start_time": "2023-01-23T21:51:13.878457",
     "status": "completed"
    },
    "tags": []
   },
   "outputs": [],
   "source": [
    "users = pd.read_csv(\"../input/book-recommendation-dataset/Users.csv\")\n",
    "ratings = pd.read_csv(\"../input/book-recommendation-dataset/Ratings.csv\")"
   ]
  },
  {
   "cell_type": "code",
   "execution_count": 4,
   "id": "89bd5f44",
   "metadata": {
    "execution": {
     "iopub.execute_input": "2023-01-23T21:51:15.243919Z",
     "iopub.status.busy": "2023-01-23T21:51:15.242732Z",
     "iopub.status.idle": "2023-01-23T21:51:15.249032Z",
     "shell.execute_reply": "2023-01-23T21:51:15.247811Z"
    },
    "papermill": {
     "duration": 0.022827,
     "end_time": "2023-01-23T21:51:15.251714",
     "exception": false,
     "start_time": "2023-01-23T21:51:15.228887",
     "status": "completed"
    },
    "tags": []
   },
   "outputs": [],
   "source": [
    "#Selecting only useful information ( removing image URLs)\n",
    "books = books.iloc[:,:5]"
   ]
  },
  {
   "cell_type": "code",
   "execution_count": 5,
   "id": "7bb2e1ea",
   "metadata": {
    "execution": {
     "iopub.execute_input": "2023-01-23T21:51:15.278599Z",
     "iopub.status.busy": "2023-01-23T21:51:15.278147Z",
     "iopub.status.idle": "2023-01-23T21:51:15.300419Z",
     "shell.execute_reply": "2023-01-23T21:51:15.299509Z"
    },
    "papermill": {
     "duration": 0.038763,
     "end_time": "2023-01-23T21:51:15.302790",
     "exception": false,
     "start_time": "2023-01-23T21:51:15.264027",
     "status": "completed"
    },
    "tags": []
   },
   "outputs": [
    {
     "data": {
      "text/html": [
       "<div>\n",
       "<style scoped>\n",
       "    .dataframe tbody tr th:only-of-type {\n",
       "        vertical-align: middle;\n",
       "    }\n",
       "\n",
       "    .dataframe tbody tr th {\n",
       "        vertical-align: top;\n",
       "    }\n",
       "\n",
       "    .dataframe thead th {\n",
       "        text-align: right;\n",
       "    }\n",
       "</style>\n",
       "<table border=\"1\" class=\"dataframe\">\n",
       "  <thead>\n",
       "    <tr style=\"text-align: right;\">\n",
       "      <th></th>\n",
       "      <th>ISBN</th>\n",
       "      <th>Book-Title</th>\n",
       "      <th>Book-Author</th>\n",
       "      <th>Year-Of-Publication</th>\n",
       "      <th>Publisher</th>\n",
       "    </tr>\n",
       "  </thead>\n",
       "  <tbody>\n",
       "    <tr>\n",
       "      <th>0</th>\n",
       "      <td>0195153448</td>\n",
       "      <td>Classical Mythology</td>\n",
       "      <td>Mark P. O. Morford</td>\n",
       "      <td>2002</td>\n",
       "      <td>Oxford University Press</td>\n",
       "    </tr>\n",
       "    <tr>\n",
       "      <th>1</th>\n",
       "      <td>0002005018</td>\n",
       "      <td>Clara Callan</td>\n",
       "      <td>Richard Bruce Wright</td>\n",
       "      <td>2001</td>\n",
       "      <td>HarperFlamingo Canada</td>\n",
       "    </tr>\n",
       "    <tr>\n",
       "      <th>2</th>\n",
       "      <td>0060973129</td>\n",
       "      <td>Decision in Normandy</td>\n",
       "      <td>Carlo D'Este</td>\n",
       "      <td>1991</td>\n",
       "      <td>HarperPerennial</td>\n",
       "    </tr>\n",
       "    <tr>\n",
       "      <th>3</th>\n",
       "      <td>0374157065</td>\n",
       "      <td>Flu: The Story of the Great Influenza Pandemic...</td>\n",
       "      <td>Gina Bari Kolata</td>\n",
       "      <td>1999</td>\n",
       "      <td>Farrar Straus Giroux</td>\n",
       "    </tr>\n",
       "    <tr>\n",
       "      <th>4</th>\n",
       "      <td>0393045218</td>\n",
       "      <td>The Mummies of Urumchi</td>\n",
       "      <td>E. J. W. Barber</td>\n",
       "      <td>1999</td>\n",
       "      <td>W. W. Norton &amp;amp; Company</td>\n",
       "    </tr>\n",
       "  </tbody>\n",
       "</table>\n",
       "</div>"
      ],
      "text/plain": [
       "         ISBN                                         Book-Title  \\\n",
       "0  0195153448                                Classical Mythology   \n",
       "1  0002005018                                       Clara Callan   \n",
       "2  0060973129                               Decision in Normandy   \n",
       "3  0374157065  Flu: The Story of the Great Influenza Pandemic...   \n",
       "4  0393045218                             The Mummies of Urumchi   \n",
       "\n",
       "            Book-Author Year-Of-Publication                   Publisher  \n",
       "0    Mark P. O. Morford                2002     Oxford University Press  \n",
       "1  Richard Bruce Wright                2001       HarperFlamingo Canada  \n",
       "2          Carlo D'Este                1991             HarperPerennial  \n",
       "3      Gina Bari Kolata                1999        Farrar Straus Giroux  \n",
       "4       E. J. W. Barber                1999  W. W. Norton &amp; Company  "
      ]
     },
     "execution_count": 5,
     "metadata": {},
     "output_type": "execute_result"
    }
   ],
   "source": [
    "books.head()"
   ]
  },
  {
   "cell_type": "code",
   "execution_count": 6,
   "id": "f4699a95",
   "metadata": {
    "execution": {
     "iopub.execute_input": "2023-01-23T21:51:15.331163Z",
     "iopub.status.busy": "2023-01-23T21:51:15.330320Z",
     "iopub.status.idle": "2023-01-23T21:51:15.341901Z",
     "shell.execute_reply": "2023-01-23T21:51:15.340861Z"
    },
    "papermill": {
     "duration": 0.028735,
     "end_time": "2023-01-23T21:51:15.344169",
     "exception": false,
     "start_time": "2023-01-23T21:51:15.315434",
     "status": "completed"
    },
    "tags": []
   },
   "outputs": [
    {
     "data": {
      "text/html": [
       "<div>\n",
       "<style scoped>\n",
       "    .dataframe tbody tr th:only-of-type {\n",
       "        vertical-align: middle;\n",
       "    }\n",
       "\n",
       "    .dataframe tbody tr th {\n",
       "        vertical-align: top;\n",
       "    }\n",
       "\n",
       "    .dataframe thead th {\n",
       "        text-align: right;\n",
       "    }\n",
       "</style>\n",
       "<table border=\"1\" class=\"dataframe\">\n",
       "  <thead>\n",
       "    <tr style=\"text-align: right;\">\n",
       "      <th></th>\n",
       "      <th>User-ID</th>\n",
       "      <th>Location</th>\n",
       "      <th>Age</th>\n",
       "    </tr>\n",
       "  </thead>\n",
       "  <tbody>\n",
       "    <tr>\n",
       "      <th>0</th>\n",
       "      <td>1</td>\n",
       "      <td>nyc, new york, usa</td>\n",
       "      <td>NaN</td>\n",
       "    </tr>\n",
       "    <tr>\n",
       "      <th>1</th>\n",
       "      <td>2</td>\n",
       "      <td>stockton, california, usa</td>\n",
       "      <td>18.0</td>\n",
       "    </tr>\n",
       "    <tr>\n",
       "      <th>2</th>\n",
       "      <td>3</td>\n",
       "      <td>moscow, yukon territory, russia</td>\n",
       "      <td>NaN</td>\n",
       "    </tr>\n",
       "    <tr>\n",
       "      <th>3</th>\n",
       "      <td>4</td>\n",
       "      <td>porto, v.n.gaia, portugal</td>\n",
       "      <td>17.0</td>\n",
       "    </tr>\n",
       "    <tr>\n",
       "      <th>4</th>\n",
       "      <td>5</td>\n",
       "      <td>farnborough, hants, united kingdom</td>\n",
       "      <td>NaN</td>\n",
       "    </tr>\n",
       "  </tbody>\n",
       "</table>\n",
       "</div>"
      ],
      "text/plain": [
       "   User-ID                            Location   Age\n",
       "0        1                  nyc, new york, usa   NaN\n",
       "1        2           stockton, california, usa  18.0\n",
       "2        3     moscow, yukon territory, russia   NaN\n",
       "3        4           porto, v.n.gaia, portugal  17.0\n",
       "4        5  farnborough, hants, united kingdom   NaN"
      ]
     },
     "execution_count": 6,
     "metadata": {},
     "output_type": "execute_result"
    }
   ],
   "source": [
    "users.head()"
   ]
  },
  {
   "cell_type": "code",
   "execution_count": 7,
   "id": "590377f6",
   "metadata": {
    "execution": {
     "iopub.execute_input": "2023-01-23T21:51:15.371969Z",
     "iopub.status.busy": "2023-01-23T21:51:15.371228Z",
     "iopub.status.idle": "2023-01-23T21:51:15.381717Z",
     "shell.execute_reply": "2023-01-23T21:51:15.380212Z"
    },
    "papermill": {
     "duration": 0.027628,
     "end_time": "2023-01-23T21:51:15.384556",
     "exception": false,
     "start_time": "2023-01-23T21:51:15.356928",
     "status": "completed"
    },
    "tags": []
   },
   "outputs": [
    {
     "data": {
      "text/html": [
       "<div>\n",
       "<style scoped>\n",
       "    .dataframe tbody tr th:only-of-type {\n",
       "        vertical-align: middle;\n",
       "    }\n",
       "\n",
       "    .dataframe tbody tr th {\n",
       "        vertical-align: top;\n",
       "    }\n",
       "\n",
       "    .dataframe thead th {\n",
       "        text-align: right;\n",
       "    }\n",
       "</style>\n",
       "<table border=\"1\" class=\"dataframe\">\n",
       "  <thead>\n",
       "    <tr style=\"text-align: right;\">\n",
       "      <th></th>\n",
       "      <th>User-ID</th>\n",
       "      <th>ISBN</th>\n",
       "      <th>Book-Rating</th>\n",
       "    </tr>\n",
       "  </thead>\n",
       "  <tbody>\n",
       "    <tr>\n",
       "      <th>0</th>\n",
       "      <td>276725</td>\n",
       "      <td>034545104X</td>\n",
       "      <td>0</td>\n",
       "    </tr>\n",
       "    <tr>\n",
       "      <th>1</th>\n",
       "      <td>276726</td>\n",
       "      <td>0155061224</td>\n",
       "      <td>5</td>\n",
       "    </tr>\n",
       "    <tr>\n",
       "      <th>2</th>\n",
       "      <td>276727</td>\n",
       "      <td>0446520802</td>\n",
       "      <td>0</td>\n",
       "    </tr>\n",
       "    <tr>\n",
       "      <th>3</th>\n",
       "      <td>276729</td>\n",
       "      <td>052165615X</td>\n",
       "      <td>3</td>\n",
       "    </tr>\n",
       "    <tr>\n",
       "      <th>4</th>\n",
       "      <td>276729</td>\n",
       "      <td>0521795028</td>\n",
       "      <td>6</td>\n",
       "    </tr>\n",
       "  </tbody>\n",
       "</table>\n",
       "</div>"
      ],
      "text/plain": [
       "   User-ID        ISBN  Book-Rating\n",
       "0   276725  034545104X            0\n",
       "1   276726  0155061224            5\n",
       "2   276727  0446520802            0\n",
       "3   276729  052165615X            3\n",
       "4   276729  0521795028            6"
      ]
     },
     "execution_count": 7,
     "metadata": {},
     "output_type": "execute_result"
    }
   ],
   "source": [
    "ratings.head()"
   ]
  },
  {
   "cell_type": "code",
   "execution_count": 8,
   "id": "982cff27",
   "metadata": {
    "execution": {
     "iopub.execute_input": "2023-01-23T21:51:15.413655Z",
     "iopub.status.busy": "2023-01-23T21:51:15.413210Z",
     "iopub.status.idle": "2023-01-23T21:51:15.614002Z",
     "shell.execute_reply": "2023-01-23T21:51:15.612587Z"
    },
    "papermill": {
     "duration": 0.21958,
     "end_time": "2023-01-23T21:51:15.617409",
     "exception": false,
     "start_time": "2023-01-23T21:51:15.397829",
     "status": "completed"
    },
    "tags": []
   },
   "outputs": [],
   "source": [
    "#Groupby to see which user has rated how many books\n",
    "user_rating_count = ratings.groupby('User-ID').count().sort_values(by = 'ISBN', ascending = False)"
   ]
  },
  {
   "cell_type": "code",
   "execution_count": 9,
   "id": "82d2facc",
   "metadata": {
    "execution": {
     "iopub.execute_input": "2023-01-23T21:51:15.645661Z",
     "iopub.status.busy": "2023-01-23T21:51:15.645211Z",
     "iopub.status.idle": "2023-01-23T21:51:15.652521Z",
     "shell.execute_reply": "2023-01-23T21:51:15.651243Z"
    },
    "papermill": {
     "duration": 0.02422,
     "end_time": "2023-01-23T21:51:15.655143",
     "exception": false,
     "start_time": "2023-01-23T21:51:15.630923",
     "status": "completed"
    },
    "tags": []
   },
   "outputs": [
    {
     "data": {
      "text/plain": [
       "(105283, 2)"
      ]
     },
     "execution_count": 9,
     "metadata": {},
     "output_type": "execute_result"
    }
   ],
   "source": [
    "user_rating_count.shape"
   ]
  },
  {
   "cell_type": "code",
   "execution_count": 10,
   "id": "a01104b2",
   "metadata": {
    "execution": {
     "iopub.execute_input": "2023-01-23T21:51:15.684156Z",
     "iopub.status.busy": "2023-01-23T21:51:15.683305Z",
     "iopub.status.idle": "2023-01-23T21:51:15.690902Z",
     "shell.execute_reply": "2023-01-23T21:51:15.689656Z"
    },
    "papermill": {
     "duration": 0.024941,
     "end_time": "2023-01-23T21:51:15.693602",
     "exception": false,
     "start_time": "2023-01-23T21:51:15.668661",
     "status": "completed"
    },
    "tags": []
   },
   "outputs": [],
   "source": [
    "#keep only those users who have given ratings to more than 100 books)\n",
    "user_rating_count = user_rating_count[user_rating_count['ISBN']>300]"
   ]
  },
  {
   "cell_type": "code",
   "execution_count": 11,
   "id": "59d2c346",
   "metadata": {
    "execution": {
     "iopub.execute_input": "2023-01-23T21:51:15.723154Z",
     "iopub.status.busy": "2023-01-23T21:51:15.721959Z",
     "iopub.status.idle": "2023-01-23T21:51:15.731189Z",
     "shell.execute_reply": "2023-01-23T21:51:15.730273Z"
    },
    "papermill": {
     "duration": 0.026477,
     "end_time": "2023-01-23T21:51:15.733564",
     "exception": false,
     "start_time": "2023-01-23T21:51:15.707087",
     "status": "completed"
    },
    "tags": []
   },
   "outputs": [
    {
     "data": {
      "text/plain": [
       "(559, 2)"
      ]
     },
     "execution_count": 11,
     "metadata": {},
     "output_type": "execute_result"
    }
   ],
   "source": [
    "user_rating_count.shape"
   ]
  },
  {
   "cell_type": "code",
   "execution_count": 12,
   "id": "df8176dc",
   "metadata": {
    "execution": {
     "iopub.execute_input": "2023-01-23T21:51:15.762568Z",
     "iopub.status.busy": "2023-01-23T21:51:15.762053Z",
     "iopub.status.idle": "2023-01-23T21:51:16.676592Z",
     "shell.execute_reply": "2023-01-23T21:51:16.675129Z"
    },
    "papermill": {
     "duration": 0.932502,
     "end_time": "2023-01-23T21:51:16.679381",
     "exception": false,
     "start_time": "2023-01-23T21:51:15.746879",
     "status": "completed"
    },
    "tags": []
   },
   "outputs": [],
   "source": [
    "#Get counts of the ratings for each book\n",
    "book_rating_count = ratings.groupby('ISBN').count().sort_values(by = 'Book-Rating', ascending = False)"
   ]
  },
  {
   "cell_type": "code",
   "execution_count": 13,
   "id": "567e7bc0",
   "metadata": {
    "execution": {
     "iopub.execute_input": "2023-01-23T21:51:16.709486Z",
     "iopub.status.busy": "2023-01-23T21:51:16.709034Z",
     "iopub.status.idle": "2023-01-23T21:51:16.721215Z",
     "shell.execute_reply": "2023-01-23T21:51:16.719564Z"
    },
    "papermill": {
     "duration": 0.030995,
     "end_time": "2023-01-23T21:51:16.723895",
     "exception": false,
     "start_time": "2023-01-23T21:51:16.692900",
     "status": "completed"
    },
    "tags": []
   },
   "outputs": [
    {
     "data": {
      "text/html": [
       "<div>\n",
       "<style scoped>\n",
       "    .dataframe tbody tr th:only-of-type {\n",
       "        vertical-align: middle;\n",
       "    }\n",
       "\n",
       "    .dataframe tbody tr th {\n",
       "        vertical-align: top;\n",
       "    }\n",
       "\n",
       "    .dataframe thead th {\n",
       "        text-align: right;\n",
       "    }\n",
       "</style>\n",
       "<table border=\"1\" class=\"dataframe\">\n",
       "  <thead>\n",
       "    <tr style=\"text-align: right;\">\n",
       "      <th></th>\n",
       "      <th>User-ID</th>\n",
       "      <th>Book-Rating</th>\n",
       "    </tr>\n",
       "    <tr>\n",
       "      <th>ISBN</th>\n",
       "      <th></th>\n",
       "      <th></th>\n",
       "    </tr>\n",
       "  </thead>\n",
       "  <tbody>\n",
       "    <tr>\n",
       "      <th>0971880107</th>\n",
       "      <td>2502</td>\n",
       "      <td>2502</td>\n",
       "    </tr>\n",
       "    <tr>\n",
       "      <th>0316666343</th>\n",
       "      <td>1295</td>\n",
       "      <td>1295</td>\n",
       "    </tr>\n",
       "    <tr>\n",
       "      <th>0385504209</th>\n",
       "      <td>883</td>\n",
       "      <td>883</td>\n",
       "    </tr>\n",
       "    <tr>\n",
       "      <th>0060928336</th>\n",
       "      <td>732</td>\n",
       "      <td>732</td>\n",
       "    </tr>\n",
       "    <tr>\n",
       "      <th>0312195516</th>\n",
       "      <td>723</td>\n",
       "      <td>723</td>\n",
       "    </tr>\n",
       "    <tr>\n",
       "      <th>044023722X</th>\n",
       "      <td>647</td>\n",
       "      <td>647</td>\n",
       "    </tr>\n",
       "    <tr>\n",
       "      <th>0679781587</th>\n",
       "      <td>639</td>\n",
       "      <td>639</td>\n",
       "    </tr>\n",
       "    <tr>\n",
       "      <th>0142001740</th>\n",
       "      <td>615</td>\n",
       "      <td>615</td>\n",
       "    </tr>\n",
       "    <tr>\n",
       "      <th>067976402X</th>\n",
       "      <td>614</td>\n",
       "      <td>614</td>\n",
       "    </tr>\n",
       "    <tr>\n",
       "      <th>0671027360</th>\n",
       "      <td>586</td>\n",
       "      <td>586</td>\n",
       "    </tr>\n",
       "  </tbody>\n",
       "</table>\n",
       "</div>"
      ],
      "text/plain": [
       "            User-ID  Book-Rating\n",
       "ISBN                            \n",
       "0971880107     2502         2502\n",
       "0316666343     1295         1295\n",
       "0385504209      883          883\n",
       "0060928336      732          732\n",
       "0312195516      723          723\n",
       "044023722X      647          647\n",
       "0679781587      639          639\n",
       "0142001740      615          615\n",
       "067976402X      614          614\n",
       "0671027360      586          586"
      ]
     },
     "execution_count": 13,
     "metadata": {},
     "output_type": "execute_result"
    }
   ],
   "source": [
    "book_rating_count.head(10)"
   ]
  },
  {
   "cell_type": "code",
   "execution_count": 14,
   "id": "467a97f5",
   "metadata": {
    "execution": {
     "iopub.execute_input": "2023-01-23T21:51:16.754228Z",
     "iopub.status.busy": "2023-01-23T21:51:16.753783Z",
     "iopub.status.idle": "2023-01-23T21:51:16.760587Z",
     "shell.execute_reply": "2023-01-23T21:51:16.759311Z"
    },
    "papermill": {
     "duration": 0.024337,
     "end_time": "2023-01-23T21:51:16.763232",
     "exception": false,
     "start_time": "2023-01-23T21:51:16.738895",
     "status": "completed"
    },
    "tags": []
   },
   "outputs": [],
   "source": [
    "#only keep books with more than 50 ratings\n",
    "book_rating_count = book_rating_count[book_rating_count['User-ID'] > 300]"
   ]
  },
  {
   "cell_type": "code",
   "execution_count": 15,
   "id": "4aa0b431",
   "metadata": {
    "execution": {
     "iopub.execute_input": "2023-01-23T21:51:16.794036Z",
     "iopub.status.busy": "2023-01-23T21:51:16.793589Z",
     "iopub.status.idle": "2023-01-23T21:51:17.745381Z",
     "shell.execute_reply": "2023-01-23T21:51:17.743981Z"
    },
    "papermill": {
     "duration": 0.971424,
     "end_time": "2023-01-23T21:51:17.748362",
     "exception": false,
     "start_time": "2023-01-23T21:51:16.776938",
     "status": "completed"
    },
    "tags": []
   },
   "outputs": [],
   "source": [
    "ratings = ratings.merge(books, on = 'ISBN')"
   ]
  },
  {
   "cell_type": "code",
   "execution_count": 16,
   "id": "49f0fb3d",
   "metadata": {
    "execution": {
     "iopub.execute_input": "2023-01-23T21:51:17.777316Z",
     "iopub.status.busy": "2023-01-23T21:51:17.776899Z",
     "iopub.status.idle": "2023-01-23T21:51:17.792128Z",
     "shell.execute_reply": "2023-01-23T21:51:17.790830Z"
    },
    "papermill": {
     "duration": 0.03291,
     "end_time": "2023-01-23T21:51:17.794812",
     "exception": false,
     "start_time": "2023-01-23T21:51:17.761902",
     "status": "completed"
    },
    "tags": []
   },
   "outputs": [
    {
     "data": {
      "text/html": [
       "<div>\n",
       "<style scoped>\n",
       "    .dataframe tbody tr th:only-of-type {\n",
       "        vertical-align: middle;\n",
       "    }\n",
       "\n",
       "    .dataframe tbody tr th {\n",
       "        vertical-align: top;\n",
       "    }\n",
       "\n",
       "    .dataframe thead th {\n",
       "        text-align: right;\n",
       "    }\n",
       "</style>\n",
       "<table border=\"1\" class=\"dataframe\">\n",
       "  <thead>\n",
       "    <tr style=\"text-align: right;\">\n",
       "      <th></th>\n",
       "      <th>User-ID</th>\n",
       "      <th>ISBN</th>\n",
       "      <th>Book-Rating</th>\n",
       "      <th>Book-Title</th>\n",
       "      <th>Book-Author</th>\n",
       "      <th>Year-Of-Publication</th>\n",
       "      <th>Publisher</th>\n",
       "    </tr>\n",
       "  </thead>\n",
       "  <tbody>\n",
       "    <tr>\n",
       "      <th>0</th>\n",
       "      <td>276725</td>\n",
       "      <td>034545104X</td>\n",
       "      <td>0</td>\n",
       "      <td>Flesh Tones: A Novel</td>\n",
       "      <td>M. J. Rose</td>\n",
       "      <td>2002</td>\n",
       "      <td>Ballantine Books</td>\n",
       "    </tr>\n",
       "    <tr>\n",
       "      <th>1</th>\n",
       "      <td>2313</td>\n",
       "      <td>034545104X</td>\n",
       "      <td>5</td>\n",
       "      <td>Flesh Tones: A Novel</td>\n",
       "      <td>M. J. Rose</td>\n",
       "      <td>2002</td>\n",
       "      <td>Ballantine Books</td>\n",
       "    </tr>\n",
       "    <tr>\n",
       "      <th>2</th>\n",
       "      <td>6543</td>\n",
       "      <td>034545104X</td>\n",
       "      <td>0</td>\n",
       "      <td>Flesh Tones: A Novel</td>\n",
       "      <td>M. J. Rose</td>\n",
       "      <td>2002</td>\n",
       "      <td>Ballantine Books</td>\n",
       "    </tr>\n",
       "    <tr>\n",
       "      <th>3</th>\n",
       "      <td>8680</td>\n",
       "      <td>034545104X</td>\n",
       "      <td>5</td>\n",
       "      <td>Flesh Tones: A Novel</td>\n",
       "      <td>M. J. Rose</td>\n",
       "      <td>2002</td>\n",
       "      <td>Ballantine Books</td>\n",
       "    </tr>\n",
       "    <tr>\n",
       "      <th>4</th>\n",
       "      <td>10314</td>\n",
       "      <td>034545104X</td>\n",
       "      <td>9</td>\n",
       "      <td>Flesh Tones: A Novel</td>\n",
       "      <td>M. J. Rose</td>\n",
       "      <td>2002</td>\n",
       "      <td>Ballantine Books</td>\n",
       "    </tr>\n",
       "  </tbody>\n",
       "</table>\n",
       "</div>"
      ],
      "text/plain": [
       "   User-ID        ISBN  Book-Rating            Book-Title Book-Author  \\\n",
       "0   276725  034545104X            0  Flesh Tones: A Novel  M. J. Rose   \n",
       "1     2313  034545104X            5  Flesh Tones: A Novel  M. J. Rose   \n",
       "2     6543  034545104X            0  Flesh Tones: A Novel  M. J. Rose   \n",
       "3     8680  034545104X            5  Flesh Tones: A Novel  M. J. Rose   \n",
       "4    10314  034545104X            9  Flesh Tones: A Novel  M. J. Rose   \n",
       "\n",
       "  Year-Of-Publication         Publisher  \n",
       "0                2002  Ballantine Books  \n",
       "1                2002  Ballantine Books  \n",
       "2                2002  Ballantine Books  \n",
       "3                2002  Ballantine Books  \n",
       "4                2002  Ballantine Books  "
      ]
     },
     "execution_count": 16,
     "metadata": {},
     "output_type": "execute_result"
    }
   ],
   "source": [
    "ratings.head()"
   ]
  },
  {
   "cell_type": "code",
   "execution_count": 17,
   "id": "88a30e97",
   "metadata": {
    "execution": {
     "iopub.execute_input": "2023-01-23T21:51:17.823948Z",
     "iopub.status.busy": "2023-01-23T21:51:17.823446Z",
     "iopub.status.idle": "2023-01-23T21:51:17.830440Z",
     "shell.execute_reply": "2023-01-23T21:51:17.829280Z"
    },
    "papermill": {
     "duration": 0.024482,
     "end_time": "2023-01-23T21:51:17.832900",
     "exception": false,
     "start_time": "2023-01-23T21:51:17.808418",
     "status": "completed"
    },
    "tags": []
   },
   "outputs": [
    {
     "data": {
      "text/plain": [
       "(1031136, 7)"
      ]
     },
     "execution_count": 17,
     "metadata": {},
     "output_type": "execute_result"
    }
   ],
   "source": [
    "ratings.shape"
   ]
  },
  {
   "cell_type": "code",
   "execution_count": 18,
   "id": "a1dbfc13",
   "metadata": {
    "execution": {
     "iopub.execute_input": "2023-01-23T21:51:17.862650Z",
     "iopub.status.busy": "2023-01-23T21:51:17.862266Z",
     "iopub.status.idle": "2023-01-23T21:51:18.224448Z",
     "shell.execute_reply": "2023-01-23T21:51:18.223157Z"
    },
    "papermill": {
     "duration": 0.380036,
     "end_time": "2023-01-23T21:51:18.227271",
     "exception": false,
     "start_time": "2023-01-23T21:51:17.847235",
     "status": "completed"
    },
    "tags": []
   },
   "outputs": [],
   "source": [
    "ratings = ratings[ratings['User-ID'].isin(user_rating_count.index)]"
   ]
  },
  {
   "cell_type": "code",
   "execution_count": 19,
   "id": "62d8dfc9",
   "metadata": {
    "execution": {
     "iopub.execute_input": "2023-01-23T21:51:18.257613Z",
     "iopub.status.busy": "2023-01-23T21:51:18.257171Z",
     "iopub.status.idle": "2023-01-23T21:51:18.322662Z",
     "shell.execute_reply": "2023-01-23T21:51:18.321608Z"
    },
    "papermill": {
     "duration": 0.083139,
     "end_time": "2023-01-23T21:51:18.325398",
     "exception": false,
     "start_time": "2023-01-23T21:51:18.242259",
     "status": "completed"
    },
    "tags": []
   },
   "outputs": [],
   "source": [
    "ratings = ratings[ratings['ISBN'].isin(book_rating_count.index)]"
   ]
  },
  {
   "cell_type": "code",
   "execution_count": 20,
   "id": "c72c2801",
   "metadata": {
    "execution": {
     "iopub.execute_input": "2023-01-23T21:51:18.355217Z",
     "iopub.status.busy": "2023-01-23T21:51:18.354800Z",
     "iopub.status.idle": "2023-01-23T21:51:18.367547Z",
     "shell.execute_reply": "2023-01-23T21:51:18.366704Z"
    },
    "papermill": {
     "duration": 0.030549,
     "end_time": "2023-01-23T21:51:18.369745",
     "exception": false,
     "start_time": "2023-01-23T21:51:18.339196",
     "status": "completed"
    },
    "tags": []
   },
   "outputs": [
    {
     "data": {
      "text/html": [
       "<div>\n",
       "<style scoped>\n",
       "    .dataframe tbody tr th:only-of-type {\n",
       "        vertical-align: middle;\n",
       "    }\n",
       "\n",
       "    .dataframe tbody tr th {\n",
       "        vertical-align: top;\n",
       "    }\n",
       "\n",
       "    .dataframe thead th {\n",
       "        text-align: right;\n",
       "    }\n",
       "</style>\n",
       "<table border=\"1\" class=\"dataframe\">\n",
       "  <thead>\n",
       "    <tr style=\"text-align: right;\">\n",
       "      <th></th>\n",
       "      <th>User-ID</th>\n",
       "      <th>ISBN</th>\n",
       "      <th>Book-Rating</th>\n",
       "      <th>Book-Title</th>\n",
       "      <th>Book-Author</th>\n",
       "      <th>Year-Of-Publication</th>\n",
       "      <th>Publisher</th>\n",
       "    </tr>\n",
       "  </thead>\n",
       "  <tbody>\n",
       "    <tr>\n",
       "      <th>1994</th>\n",
       "      <td>254</td>\n",
       "      <td>043935806X</td>\n",
       "      <td>0</td>\n",
       "      <td>Harry Potter and the Order of the Phoenix (Boo...</td>\n",
       "      <td>J. K. Rowling</td>\n",
       "      <td>2003</td>\n",
       "      <td>Scholastic</td>\n",
       "    </tr>\n",
       "    <tr>\n",
       "      <th>1997</th>\n",
       "      <td>6251</td>\n",
       "      <td>043935806X</td>\n",
       "      <td>9</td>\n",
       "      <td>Harry Potter and the Order of the Phoenix (Boo...</td>\n",
       "      <td>J. K. Rowling</td>\n",
       "      <td>2003</td>\n",
       "      <td>Scholastic</td>\n",
       "    </tr>\n",
       "    <tr>\n",
       "      <th>2000</th>\n",
       "      <td>6575</td>\n",
       "      <td>043935806X</td>\n",
       "      <td>0</td>\n",
       "      <td>Harry Potter and the Order of the Phoenix (Boo...</td>\n",
       "      <td>J. K. Rowling</td>\n",
       "      <td>2003</td>\n",
       "      <td>Scholastic</td>\n",
       "    </tr>\n",
       "    <tr>\n",
       "      <th>2004</th>\n",
       "      <td>11676</td>\n",
       "      <td>043935806X</td>\n",
       "      <td>0</td>\n",
       "      <td>Harry Potter and the Order of the Phoenix (Boo...</td>\n",
       "      <td>J. K. Rowling</td>\n",
       "      <td>2003</td>\n",
       "      <td>Scholastic</td>\n",
       "    </tr>\n",
       "    <tr>\n",
       "      <th>2011</th>\n",
       "      <td>21014</td>\n",
       "      <td>043935806X</td>\n",
       "      <td>0</td>\n",
       "      <td>Harry Potter and the Order of the Phoenix (Boo...</td>\n",
       "      <td>J. K. Rowling</td>\n",
       "      <td>2003</td>\n",
       "      <td>Scholastic</td>\n",
       "    </tr>\n",
       "  </tbody>\n",
       "</table>\n",
       "</div>"
      ],
      "text/plain": [
       "      User-ID        ISBN  Book-Rating  \\\n",
       "1994      254  043935806X            0   \n",
       "1997     6251  043935806X            9   \n",
       "2000     6575  043935806X            0   \n",
       "2004    11676  043935806X            0   \n",
       "2011    21014  043935806X            0   \n",
       "\n",
       "                                             Book-Title    Book-Author  \\\n",
       "1994  Harry Potter and the Order of the Phoenix (Boo...  J. K. Rowling   \n",
       "1997  Harry Potter and the Order of the Phoenix (Boo...  J. K. Rowling   \n",
       "2000  Harry Potter and the Order of the Phoenix (Boo...  J. K. Rowling   \n",
       "2004  Harry Potter and the Order of the Phoenix (Boo...  J. K. Rowling   \n",
       "2011  Harry Potter and the Order of the Phoenix (Boo...  J. K. Rowling   \n",
       "\n",
       "     Year-Of-Publication   Publisher  \n",
       "1994                2003  Scholastic  \n",
       "1997                2003  Scholastic  \n",
       "2000                2003  Scholastic  \n",
       "2004                2003  Scholastic  \n",
       "2011                2003  Scholastic  "
      ]
     },
     "execution_count": 20,
     "metadata": {},
     "output_type": "execute_result"
    }
   ],
   "source": [
    "ratings.head()"
   ]
  },
  {
   "cell_type": "code",
   "execution_count": 21,
   "id": "e7de6fd0",
   "metadata": {
    "execution": {
     "iopub.execute_input": "2023-01-23T21:51:18.400879Z",
     "iopub.status.busy": "2023-01-23T21:51:18.399794Z",
     "iopub.status.idle": "2023-01-23T21:51:18.430760Z",
     "shell.execute_reply": "2023-01-23T21:51:18.429508Z"
    },
    "papermill": {
     "duration": 0.050005,
     "end_time": "2023-01-23T21:51:18.433687",
     "exception": false,
     "start_time": "2023-01-23T21:51:18.383682",
     "status": "completed"
    },
    "tags": []
   },
   "outputs": [],
   "source": [
    "piv_table = ratings.pivot_table(columns = \"User-ID\", index = \"ISBN\", values = \"Book-Rating\")"
   ]
  },
  {
   "cell_type": "code",
   "execution_count": 22,
   "id": "9917a9bd",
   "metadata": {
    "execution": {
     "iopub.execute_input": "2023-01-23T21:51:18.466121Z",
     "iopub.status.busy": "2023-01-23T21:51:18.465594Z",
     "iopub.status.idle": "2023-01-23T21:51:18.473402Z",
     "shell.execute_reply": "2023-01-23T21:51:18.472215Z"
    },
    "papermill": {
     "duration": 0.027485,
     "end_time": "2023-01-23T21:51:18.475793",
     "exception": false,
     "start_time": "2023-01-23T21:51:18.448308",
     "status": "completed"
    },
    "tags": []
   },
   "outputs": [
    {
     "data": {
      "text/plain": [
       "(81, 539)"
      ]
     },
     "execution_count": 22,
     "metadata": {},
     "output_type": "execute_result"
    }
   ],
   "source": [
    "piv_table.shape"
   ]
  },
  {
   "cell_type": "markdown",
   "id": "93dd3e7a",
   "metadata": {
    "papermill": {
     "duration": 0.013806,
     "end_time": "2023-01-23T21:51:18.503611",
     "exception": false,
     "start_time": "2023-01-23T21:51:18.489805",
     "status": "completed"
    },
    "tags": []
   },
   "source": [
    "So we have 2101 books and 1792 users.\n"
   ]
  },
  {
   "cell_type": "code",
   "execution_count": 23,
   "id": "1d72cb05",
   "metadata": {
    "execution": {
     "iopub.execute_input": "2023-01-23T21:51:18.533592Z",
     "iopub.status.busy": "2023-01-23T21:51:18.533112Z",
     "iopub.status.idle": "2023-01-23T21:51:18.573250Z",
     "shell.execute_reply": "2023-01-23T21:51:18.572050Z"
    },
    "papermill": {
     "duration": 0.058076,
     "end_time": "2023-01-23T21:51:18.575693",
     "exception": false,
     "start_time": "2023-01-23T21:51:18.517617",
     "status": "completed"
    },
    "tags": []
   },
   "outputs": [
    {
     "data": {
      "text/html": [
       "<div>\n",
       "<style scoped>\n",
       "    .dataframe tbody tr th:only-of-type {\n",
       "        vertical-align: middle;\n",
       "    }\n",
       "\n",
       "    .dataframe tbody tr th {\n",
       "        vertical-align: top;\n",
       "    }\n",
       "\n",
       "    .dataframe thead th {\n",
       "        text-align: right;\n",
       "    }\n",
       "</style>\n",
       "<table border=\"1\" class=\"dataframe\">\n",
       "  <thead>\n",
       "    <tr style=\"text-align: right;\">\n",
       "      <th>User-ID</th>\n",
       "      <th>254</th>\n",
       "      <th>2276</th>\n",
       "      <th>3363</th>\n",
       "      <th>4385</th>\n",
       "      <th>6251</th>\n",
       "      <th>6543</th>\n",
       "      <th>6575</th>\n",
       "      <th>7158</th>\n",
       "      <th>7346</th>\n",
       "      <th>8681</th>\n",
       "      <th>...</th>\n",
       "      <th>52199</th>\n",
       "      <th>52203</th>\n",
       "      <th>52584</th>\n",
       "      <th>52614</th>\n",
       "      <th>52853</th>\n",
       "      <th>52917</th>\n",
       "      <th>53174</th>\n",
       "      <th>54218</th>\n",
       "      <th>55187</th>\n",
       "      <th>55490</th>\n",
       "    </tr>\n",
       "    <tr>\n",
       "      <th>ISBN</th>\n",
       "      <th></th>\n",
       "      <th></th>\n",
       "      <th></th>\n",
       "      <th></th>\n",
       "      <th></th>\n",
       "      <th></th>\n",
       "      <th></th>\n",
       "      <th></th>\n",
       "      <th></th>\n",
       "      <th></th>\n",
       "      <th></th>\n",
       "      <th></th>\n",
       "      <th></th>\n",
       "      <th></th>\n",
       "      <th></th>\n",
       "      <th></th>\n",
       "      <th></th>\n",
       "      <th></th>\n",
       "      <th></th>\n",
       "      <th></th>\n",
       "      <th></th>\n",
       "    </tr>\n",
       "  </thead>\n",
       "  <tbody>\n",
       "    <tr>\n",
       "      <th>0060502258</th>\n",
       "      <td>NaN</td>\n",
       "      <td>NaN</td>\n",
       "      <td>0.0</td>\n",
       "      <td>NaN</td>\n",
       "      <td>NaN</td>\n",
       "      <td>NaN</td>\n",
       "      <td>8.0</td>\n",
       "      <td>NaN</td>\n",
       "      <td>NaN</td>\n",
       "      <td>NaN</td>\n",
       "      <td>...</td>\n",
       "      <td>NaN</td>\n",
       "      <td>NaN</td>\n",
       "      <td>NaN</td>\n",
       "      <td>NaN</td>\n",
       "      <td>NaN</td>\n",
       "      <td>NaN</td>\n",
       "      <td>0.0</td>\n",
       "      <td>0.0</td>\n",
       "      <td>NaN</td>\n",
       "      <td>NaN</td>\n",
       "    </tr>\n",
       "    <tr>\n",
       "      <th>0060928336</th>\n",
       "      <td>NaN</td>\n",
       "      <td>NaN</td>\n",
       "      <td>0.0</td>\n",
       "      <td>NaN</td>\n",
       "      <td>NaN</td>\n",
       "      <td>NaN</td>\n",
       "      <td>8.0</td>\n",
       "      <td>NaN</td>\n",
       "      <td>0.0</td>\n",
       "      <td>0.0</td>\n",
       "      <td>...</td>\n",
       "      <td>NaN</td>\n",
       "      <td>NaN</td>\n",
       "      <td>0.0</td>\n",
       "      <td>NaN</td>\n",
       "      <td>NaN</td>\n",
       "      <td>4.0</td>\n",
       "      <td>0.0</td>\n",
       "      <td>NaN</td>\n",
       "      <td>NaN</td>\n",
       "      <td>NaN</td>\n",
       "    </tr>\n",
       "    <tr>\n",
       "      <th>0060930535</th>\n",
       "      <td>0.0</td>\n",
       "      <td>NaN</td>\n",
       "      <td>NaN</td>\n",
       "      <td>NaN</td>\n",
       "      <td>0.0</td>\n",
       "      <td>NaN</td>\n",
       "      <td>NaN</td>\n",
       "      <td>NaN</td>\n",
       "      <td>0.0</td>\n",
       "      <td>NaN</td>\n",
       "      <td>...</td>\n",
       "      <td>NaN</td>\n",
       "      <td>NaN</td>\n",
       "      <td>0.0</td>\n",
       "      <td>NaN</td>\n",
       "      <td>NaN</td>\n",
       "      <td>NaN</td>\n",
       "      <td>NaN</td>\n",
       "      <td>NaN</td>\n",
       "      <td>NaN</td>\n",
       "      <td>NaN</td>\n",
       "    </tr>\n",
       "    <tr>\n",
       "      <th>0060934417</th>\n",
       "      <td>NaN</td>\n",
       "      <td>NaN</td>\n",
       "      <td>NaN</td>\n",
       "      <td>NaN</td>\n",
       "      <td>NaN</td>\n",
       "      <td>NaN</td>\n",
       "      <td>9.0</td>\n",
       "      <td>NaN</td>\n",
       "      <td>0.0</td>\n",
       "      <td>NaN</td>\n",
       "      <td>...</td>\n",
       "      <td>NaN</td>\n",
       "      <td>NaN</td>\n",
       "      <td>NaN</td>\n",
       "      <td>NaN</td>\n",
       "      <td>NaN</td>\n",
       "      <td>NaN</td>\n",
       "      <td>NaN</td>\n",
       "      <td>NaN</td>\n",
       "      <td>NaN</td>\n",
       "      <td>NaN</td>\n",
       "    </tr>\n",
       "    <tr>\n",
       "      <th>0060938455</th>\n",
       "      <td>NaN</td>\n",
       "      <td>NaN</td>\n",
       "      <td>NaN</td>\n",
       "      <td>NaN</td>\n",
       "      <td>0.0</td>\n",
       "      <td>NaN</td>\n",
       "      <td>0.0</td>\n",
       "      <td>NaN</td>\n",
       "      <td>NaN</td>\n",
       "      <td>NaN</td>\n",
       "      <td>...</td>\n",
       "      <td>NaN</td>\n",
       "      <td>NaN</td>\n",
       "      <td>NaN</td>\n",
       "      <td>NaN</td>\n",
       "      <td>NaN</td>\n",
       "      <td>NaN</td>\n",
       "      <td>NaN</td>\n",
       "      <td>0.0</td>\n",
       "      <td>NaN</td>\n",
       "      <td>NaN</td>\n",
       "    </tr>\n",
       "    <tr>\n",
       "      <th>...</th>\n",
       "      <td>...</td>\n",
       "      <td>...</td>\n",
       "      <td>...</td>\n",
       "      <td>...</td>\n",
       "      <td>...</td>\n",
       "      <td>...</td>\n",
       "      <td>...</td>\n",
       "      <td>...</td>\n",
       "      <td>...</td>\n",
       "      <td>...</td>\n",
       "      <td>...</td>\n",
       "      <td>...</td>\n",
       "      <td>...</td>\n",
       "      <td>...</td>\n",
       "      <td>...</td>\n",
       "      <td>...</td>\n",
       "      <td>...</td>\n",
       "      <td>...</td>\n",
       "      <td>...</td>\n",
       "      <td>...</td>\n",
       "      <td>...</td>\n",
       "    </tr>\n",
       "    <tr>\n",
       "      <th>0743418174</th>\n",
       "      <td>NaN</td>\n",
       "      <td>NaN</td>\n",
       "      <td>0.0</td>\n",
       "      <td>NaN</td>\n",
       "      <td>0.0</td>\n",
       "      <td>NaN</td>\n",
       "      <td>0.0</td>\n",
       "      <td>0.0</td>\n",
       "      <td>0.0</td>\n",
       "      <td>NaN</td>\n",
       "      <td>...</td>\n",
       "      <td>NaN</td>\n",
       "      <td>NaN</td>\n",
       "      <td>10.0</td>\n",
       "      <td>NaN</td>\n",
       "      <td>NaN</td>\n",
       "      <td>NaN</td>\n",
       "      <td>NaN</td>\n",
       "      <td>NaN</td>\n",
       "      <td>NaN</td>\n",
       "      <td>NaN</td>\n",
       "    </tr>\n",
       "    <tr>\n",
       "      <th>0786868716</th>\n",
       "      <td>NaN</td>\n",
       "      <td>NaN</td>\n",
       "      <td>NaN</td>\n",
       "      <td>0.0</td>\n",
       "      <td>0.0</td>\n",
       "      <td>NaN</td>\n",
       "      <td>NaN</td>\n",
       "      <td>NaN</td>\n",
       "      <td>7.0</td>\n",
       "      <td>NaN</td>\n",
       "      <td>...</td>\n",
       "      <td>NaN</td>\n",
       "      <td>NaN</td>\n",
       "      <td>NaN</td>\n",
       "      <td>NaN</td>\n",
       "      <td>NaN</td>\n",
       "      <td>NaN</td>\n",
       "      <td>NaN</td>\n",
       "      <td>NaN</td>\n",
       "      <td>NaN</td>\n",
       "      <td>NaN</td>\n",
       "    </tr>\n",
       "    <tr>\n",
       "      <th>0804106304</th>\n",
       "      <td>0.0</td>\n",
       "      <td>NaN</td>\n",
       "      <td>NaN</td>\n",
       "      <td>NaN</td>\n",
       "      <td>0.0</td>\n",
       "      <td>NaN</td>\n",
       "      <td>9.0</td>\n",
       "      <td>NaN</td>\n",
       "      <td>9.0</td>\n",
       "      <td>NaN</td>\n",
       "      <td>...</td>\n",
       "      <td>0.0</td>\n",
       "      <td>NaN</td>\n",
       "      <td>7.0</td>\n",
       "      <td>NaN</td>\n",
       "      <td>NaN</td>\n",
       "      <td>7.0</td>\n",
       "      <td>NaN</td>\n",
       "      <td>NaN</td>\n",
       "      <td>NaN</td>\n",
       "      <td>NaN</td>\n",
       "    </tr>\n",
       "    <tr>\n",
       "      <th>0971880107</th>\n",
       "      <td>NaN</td>\n",
       "      <td>NaN</td>\n",
       "      <td>0.0</td>\n",
       "      <td>NaN</td>\n",
       "      <td>0.0</td>\n",
       "      <td>0.0</td>\n",
       "      <td>NaN</td>\n",
       "      <td>0.0</td>\n",
       "      <td>NaN</td>\n",
       "      <td>0.0</td>\n",
       "      <td>...</td>\n",
       "      <td>NaN</td>\n",
       "      <td>NaN</td>\n",
       "      <td>NaN</td>\n",
       "      <td>NaN</td>\n",
       "      <td>NaN</td>\n",
       "      <td>0.0</td>\n",
       "      <td>0.0</td>\n",
       "      <td>NaN</td>\n",
       "      <td>6.0</td>\n",
       "      <td>NaN</td>\n",
       "    </tr>\n",
       "    <tr>\n",
       "      <th>1400034779</th>\n",
       "      <td>NaN</td>\n",
       "      <td>NaN</td>\n",
       "      <td>NaN</td>\n",
       "      <td>NaN</td>\n",
       "      <td>0.0</td>\n",
       "      <td>NaN</td>\n",
       "      <td>9.0</td>\n",
       "      <td>NaN</td>\n",
       "      <td>NaN</td>\n",
       "      <td>NaN</td>\n",
       "      <td>...</td>\n",
       "      <td>NaN</td>\n",
       "      <td>NaN</td>\n",
       "      <td>NaN</td>\n",
       "      <td>NaN</td>\n",
       "      <td>NaN</td>\n",
       "      <td>NaN</td>\n",
       "      <td>NaN</td>\n",
       "      <td>NaN</td>\n",
       "      <td>NaN</td>\n",
       "      <td>NaN</td>\n",
       "    </tr>\n",
       "  </tbody>\n",
       "</table>\n",
       "<p>81 rows × 100 columns</p>\n",
       "</div>"
      ],
      "text/plain": [
       "User-ID     254    2276   3363   4385   6251   6543   6575   7158   7346   \\\n",
       "ISBN                                                                        \n",
       "0060502258    NaN    NaN    0.0    NaN    NaN    NaN    8.0    NaN    NaN   \n",
       "0060928336    NaN    NaN    0.0    NaN    NaN    NaN    8.0    NaN    0.0   \n",
       "0060930535    0.0    NaN    NaN    NaN    0.0    NaN    NaN    NaN    0.0   \n",
       "0060934417    NaN    NaN    NaN    NaN    NaN    NaN    9.0    NaN    0.0   \n",
       "0060938455    NaN    NaN    NaN    NaN    0.0    NaN    0.0    NaN    NaN   \n",
       "...           ...    ...    ...    ...    ...    ...    ...    ...    ...   \n",
       "0743418174    NaN    NaN    0.0    NaN    0.0    NaN    0.0    0.0    0.0   \n",
       "0786868716    NaN    NaN    NaN    0.0    0.0    NaN    NaN    NaN    7.0   \n",
       "0804106304    0.0    NaN    NaN    NaN    0.0    NaN    9.0    NaN    9.0   \n",
       "0971880107    NaN    NaN    0.0    NaN    0.0    0.0    NaN    0.0    NaN   \n",
       "1400034779    NaN    NaN    NaN    NaN    0.0    NaN    9.0    NaN    NaN   \n",
       "\n",
       "User-ID     8681   ...  52199  52203  52584  52614  52853  52917  53174  \\\n",
       "ISBN               ...                                                    \n",
       "0060502258    NaN  ...    NaN    NaN    NaN    NaN    NaN    NaN    0.0   \n",
       "0060928336    0.0  ...    NaN    NaN    0.0    NaN    NaN    4.0    0.0   \n",
       "0060930535    NaN  ...    NaN    NaN    0.0    NaN    NaN    NaN    NaN   \n",
       "0060934417    NaN  ...    NaN    NaN    NaN    NaN    NaN    NaN    NaN   \n",
       "0060938455    NaN  ...    NaN    NaN    NaN    NaN    NaN    NaN    NaN   \n",
       "...           ...  ...    ...    ...    ...    ...    ...    ...    ...   \n",
       "0743418174    NaN  ...    NaN    NaN   10.0    NaN    NaN    NaN    NaN   \n",
       "0786868716    NaN  ...    NaN    NaN    NaN    NaN    NaN    NaN    NaN   \n",
       "0804106304    NaN  ...    0.0    NaN    7.0    NaN    NaN    7.0    NaN   \n",
       "0971880107    0.0  ...    NaN    NaN    NaN    NaN    NaN    0.0    0.0   \n",
       "1400034779    NaN  ...    NaN    NaN    NaN    NaN    NaN    NaN    NaN   \n",
       "\n",
       "User-ID     54218  55187  55490  \n",
       "ISBN                             \n",
       "0060502258    0.0    NaN    NaN  \n",
       "0060928336    NaN    NaN    NaN  \n",
       "0060930535    NaN    NaN    NaN  \n",
       "0060934417    NaN    NaN    NaN  \n",
       "0060938455    0.0    NaN    NaN  \n",
       "...           ...    ...    ...  \n",
       "0743418174    NaN    NaN    NaN  \n",
       "0786868716    NaN    NaN    NaN  \n",
       "0804106304    NaN    NaN    NaN  \n",
       "0971880107    NaN    6.0    NaN  \n",
       "1400034779    NaN    NaN    NaN  \n",
       "\n",
       "[81 rows x 100 columns]"
      ]
     },
     "execution_count": 23,
     "metadata": {},
     "output_type": "execute_result"
    }
   ],
   "source": [
    "piv_table.iloc[:100, :100]"
   ]
  },
  {
   "cell_type": "markdown",
   "id": "616a27d4",
   "metadata": {
    "papermill": {
     "duration": 0.014496,
     "end_time": "2023-01-23T21:51:18.604861",
     "exception": false,
     "start_time": "2023-01-23T21:51:18.590365",
     "status": "completed"
    },
    "tags": []
   },
   "source": [
    "As you can see it is a very sparse table with most values as NaN. We will replace Nan to 0 to logically define that if  user A has given a rating of 0 we will not recommend that to similar users. This is true if user A has not read the book as well."
   ]
  },
  {
   "cell_type": "code",
   "execution_count": 24,
   "id": "81431a0e",
   "metadata": {
    "execution": {
     "iopub.execute_input": "2023-01-23T21:51:18.635702Z",
     "iopub.status.busy": "2023-01-23T21:51:18.635280Z",
     "iopub.status.idle": "2023-01-23T21:51:18.641164Z",
     "shell.execute_reply": "2023-01-23T21:51:18.640081Z"
    },
    "papermill": {
     "duration": 0.024234,
     "end_time": "2023-01-23T21:51:18.643453",
     "exception": false,
     "start_time": "2023-01-23T21:51:18.619219",
     "status": "completed"
    },
    "tags": []
   },
   "outputs": [],
   "source": [
    "piv_table = piv_table.fillna(0)"
   ]
  },
  {
   "cell_type": "code",
   "execution_count": 25,
   "id": "1b64d82b",
   "metadata": {
    "execution": {
     "iopub.execute_input": "2023-01-23T21:51:18.674739Z",
     "iopub.status.busy": "2023-01-23T21:51:18.674315Z",
     "iopub.status.idle": "2023-01-23T21:51:18.686072Z",
     "shell.execute_reply": "2023-01-23T21:51:18.684850Z"
    },
    "papermill": {
     "duration": 0.030785,
     "end_time": "2023-01-23T21:51:18.688615",
     "exception": false,
     "start_time": "2023-01-23T21:51:18.657830",
     "status": "completed"
    },
    "tags": []
   },
   "outputs": [
    {
     "data": {
      "text/plain": [
       "0"
      ]
     },
     "execution_count": 25,
     "metadata": {},
     "output_type": "execute_result"
    }
   ],
   "source": [
    "pd.DataFrame(piv_table).isnull().sum().sum()"
   ]
  },
  {
   "cell_type": "code",
   "execution_count": 26,
   "id": "37042da8",
   "metadata": {
    "execution": {
     "iopub.execute_input": "2023-01-23T21:51:18.720118Z",
     "iopub.status.busy": "2023-01-23T21:51:18.718719Z",
     "iopub.status.idle": "2023-01-23T21:51:19.096026Z",
     "shell.execute_reply": "2023-01-23T21:51:19.094675Z"
    },
    "papermill": {
     "duration": 0.396489,
     "end_time": "2023-01-23T21:51:19.099511",
     "exception": false,
     "start_time": "2023-01-23T21:51:18.703022",
     "status": "completed"
    },
    "tags": []
   },
   "outputs": [
    {
     "data": {
      "text/plain": [
       "NearestNeighbors(algorithm='brute')"
      ]
     },
     "execution_count": 26,
     "metadata": {},
     "output_type": "execute_result"
    }
   ],
   "source": [
    "from sklearn.neighbors import NearestNeighbors\n",
    "model = NearestNeighbors(algorithm='brute')\n",
    "model.fit(piv_table)"
   ]
  },
  {
   "cell_type": "markdown",
   "id": "c60ff579",
   "metadata": {
    "papermill": {
     "duration": 0.014847,
     "end_time": "2023-01-23T21:51:19.138539",
     "exception": false,
     "start_time": "2023-01-23T21:51:19.123692",
     "status": "completed"
    },
    "tags": []
   },
   "source": [
    "Let's list a few books at random and see which one wwe know. "
   ]
  },
  {
   "cell_type": "code",
   "execution_count": 27,
   "id": "5f5a458a",
   "metadata": {
    "execution": {
     "iopub.execute_input": "2023-01-23T21:51:19.171972Z",
     "iopub.status.busy": "2023-01-23T21:51:19.170717Z",
     "iopub.status.idle": "2023-01-23T21:51:19.187221Z",
     "shell.execute_reply": "2023-01-23T21:51:19.185965Z"
    },
    "papermill": {
     "duration": 0.036178,
     "end_time": "2023-01-23T21:51:19.190028",
     "exception": false,
     "start_time": "2023-01-23T21:51:19.153850",
     "status": "completed"
    },
    "tags": []
   },
   "outputs": [
    {
     "data": {
      "text/html": [
       "<div>\n",
       "<style scoped>\n",
       "    .dataframe tbody tr th:only-of-type {\n",
       "        vertical-align: middle;\n",
       "    }\n",
       "\n",
       "    .dataframe tbody tr th {\n",
       "        vertical-align: top;\n",
       "    }\n",
       "\n",
       "    .dataframe thead th {\n",
       "        text-align: right;\n",
       "    }\n",
       "</style>\n",
       "<table border=\"1\" class=\"dataframe\">\n",
       "  <thead>\n",
       "    <tr style=\"text-align: right;\">\n",
       "      <th></th>\n",
       "      <th>User-ID</th>\n",
       "      <th>ISBN</th>\n",
       "      <th>Book-Rating</th>\n",
       "      <th>Book-Title</th>\n",
       "      <th>Book-Author</th>\n",
       "      <th>Year-Of-Publication</th>\n",
       "      <th>Publisher</th>\n",
       "    </tr>\n",
       "  </thead>\n",
       "  <tbody>\n",
       "    <tr>\n",
       "      <th>22696</th>\n",
       "      <td>187145</td>\n",
       "      <td>0345342968</td>\n",
       "      <td>9</td>\n",
       "      <td>Fahrenheit 451</td>\n",
       "      <td>RAY BRADBURY</td>\n",
       "      <td>1987</td>\n",
       "      <td>Del Rey</td>\n",
       "    </tr>\n",
       "    <tr>\n",
       "      <th>38699</th>\n",
       "      <td>268030</td>\n",
       "      <td>0452282152</td>\n",
       "      <td>0</td>\n",
       "      <td>Girl with a Pearl Earring</td>\n",
       "      <td>Tracy Chevalier</td>\n",
       "      <td>2001</td>\n",
       "      <td>Plume Books</td>\n",
       "    </tr>\n",
       "    <tr>\n",
       "      <th>191641</th>\n",
       "      <td>225763</td>\n",
       "      <td>0060987103</td>\n",
       "      <td>5</td>\n",
       "      <td>Wicked: The Life and Times of the Wicked Witch...</td>\n",
       "      <td>Gregory Maguire</td>\n",
       "      <td>1996</td>\n",
       "      <td>Regan Books</td>\n",
       "    </tr>\n",
       "    <tr>\n",
       "      <th>49497</th>\n",
       "      <td>270713</td>\n",
       "      <td>0345361792</td>\n",
       "      <td>0</td>\n",
       "      <td>A Prayer for Owen Meany</td>\n",
       "      <td>John Irving</td>\n",
       "      <td>1990</td>\n",
       "      <td>Ballantine Books</td>\n",
       "    </tr>\n",
       "    <tr>\n",
       "      <th>148753</th>\n",
       "      <td>102702</td>\n",
       "      <td>044021145X</td>\n",
       "      <td>0</td>\n",
       "      <td>The Firm</td>\n",
       "      <td>John Grisham</td>\n",
       "      <td>1992</td>\n",
       "      <td>Bantam Dell Publishing Group</td>\n",
       "    </tr>\n",
       "    <tr>\n",
       "      <th>44403</th>\n",
       "      <td>273979</td>\n",
       "      <td>0060930535</td>\n",
       "      <td>0</td>\n",
       "      <td>The Poisonwood Bible: A Novel</td>\n",
       "      <td>Barbara Kingsolver</td>\n",
       "      <td>1999</td>\n",
       "      <td>Perennial</td>\n",
       "    </tr>\n",
       "    <tr>\n",
       "      <th>10489</th>\n",
       "      <td>94923</td>\n",
       "      <td>0971880107</td>\n",
       "      <td>0</td>\n",
       "      <td>Wild Animus</td>\n",
       "      <td>Rich Shapero</td>\n",
       "      <td>2004</td>\n",
       "      <td>Too Far</td>\n",
       "    </tr>\n",
       "    <tr>\n",
       "      <th>43014</th>\n",
       "      <td>55734</td>\n",
       "      <td>0684872153</td>\n",
       "      <td>0</td>\n",
       "      <td>Angela's Ashes (MMP) : A Memoir</td>\n",
       "      <td>Frank McCourt</td>\n",
       "      <td>1999</td>\n",
       "      <td>Scribner</td>\n",
       "    </tr>\n",
       "    <tr>\n",
       "      <th>82448</th>\n",
       "      <td>35859</td>\n",
       "      <td>0440214041</td>\n",
       "      <td>0</td>\n",
       "      <td>The Pelican Brief</td>\n",
       "      <td>John Grisham</td>\n",
       "      <td>1993</td>\n",
       "      <td>Dell</td>\n",
       "    </tr>\n",
       "  </tbody>\n",
       "</table>\n",
       "</div>"
      ],
      "text/plain": [
       "        User-ID        ISBN  Book-Rating  \\\n",
       "22696    187145  0345342968            9   \n",
       "38699    268030  0452282152            0   \n",
       "191641   225763  0060987103            5   \n",
       "49497    270713  0345361792            0   \n",
       "148753   102702  044021145X            0   \n",
       "44403    273979  0060930535            0   \n",
       "10489     94923  0971880107            0   \n",
       "43014     55734  0684872153            0   \n",
       "82448     35859  0440214041            0   \n",
       "\n",
       "                                               Book-Title         Book-Author  \\\n",
       "22696                                      Fahrenheit 451        RAY BRADBURY   \n",
       "38699                           Girl with a Pearl Earring     Tracy Chevalier   \n",
       "191641  Wicked: The Life and Times of the Wicked Witch...     Gregory Maguire   \n",
       "49497                             A Prayer for Owen Meany         John Irving   \n",
       "148753                                           The Firm        John Grisham   \n",
       "44403                       The Poisonwood Bible: A Novel  Barbara Kingsolver   \n",
       "10489                                         Wild Animus        Rich Shapero   \n",
       "43014                     Angela's Ashes (MMP) : A Memoir       Frank McCourt   \n",
       "82448                                   The Pelican Brief        John Grisham   \n",
       "\n",
       "       Year-Of-Publication                     Publisher  \n",
       "22696                 1987                       Del Rey  \n",
       "38699                 2001                   Plume Books  \n",
       "191641                1996                   Regan Books  \n",
       "49497                 1990              Ballantine Books  \n",
       "148753                1992  Bantam Dell Publishing Group  \n",
       "44403                 1999                     Perennial  \n",
       "10489                 2004                       Too Far  \n",
       "43014                 1999                      Scribner  \n",
       "82448                 1993                          Dell  "
      ]
     },
     "execution_count": 27,
     "metadata": {},
     "output_type": "execute_result"
    }
   ],
   "source": [
    "ratings.sample(frac = 0.001)"
   ]
  },
  {
   "cell_type": "markdown",
   "id": "d51a1c44",
   "metadata": {
    "papermill": {
     "duration": 0.014627,
     "end_time": "2023-01-23T21:51:19.220481",
     "exception": false,
     "start_time": "2023-01-23T21:51:19.205854",
     "status": "completed"
    },
    "tags": []
   },
   "source": []
  },
  {
   "cell_type": "markdown",
   "id": "b78a1b01",
   "metadata": {
    "papermill": {
     "duration": 0.015726,
     "end_time": "2023-01-23T21:51:19.251546",
     "exception": false,
     "start_time": "2023-01-23T21:51:19.235820",
     "status": "completed"
    },
    "tags": []
   },
   "source": [
    "I had to sample multiple times to get a book that I have read. 'The Fellowship of the Ring' with ISBN 0618002227 at index 196979"
   ]
  },
  {
   "cell_type": "markdown",
   "id": "807154e7",
   "metadata": {
    "papermill": {
     "duration": 0.014456,
     "end_time": "2023-01-23T21:51:19.281510",
     "exception": false,
     "start_time": "2023-01-23T21:51:19.267054",
     "status": "completed"
    },
    "tags": []
   },
   "source": []
  },
  {
   "cell_type": "code",
   "execution_count": 28,
   "id": "846e992d",
   "metadata": {
    "execution": {
     "iopub.execute_input": "2023-01-23T21:51:19.315384Z",
     "iopub.status.busy": "2023-01-23T21:51:19.314427Z",
     "iopub.status.idle": "2023-01-23T21:51:19.333453Z",
     "shell.execute_reply": "2023-01-23T21:51:19.331986Z"
    },
    "papermill": {
     "duration": 0.038754,
     "end_time": "2023-01-23T21:51:19.335833",
     "exception": false,
     "start_time": "2023-01-23T21:51:19.297079",
     "status": "completed"
    },
    "tags": []
   },
   "outputs": [
    {
     "data": {
      "text/html": [
       "<div>\n",
       "<style scoped>\n",
       "    .dataframe tbody tr th:only-of-type {\n",
       "        vertical-align: middle;\n",
       "    }\n",
       "\n",
       "    .dataframe tbody tr th {\n",
       "        vertical-align: top;\n",
       "    }\n",
       "\n",
       "    .dataframe thead th {\n",
       "        text-align: right;\n",
       "    }\n",
       "</style>\n",
       "<table border=\"1\" class=\"dataframe\">\n",
       "  <thead>\n",
       "    <tr style=\"text-align: right;\">\n",
       "      <th>User-ID</th>\n",
       "      <th>254</th>\n",
       "      <th>2276</th>\n",
       "      <th>3363</th>\n",
       "      <th>4385</th>\n",
       "      <th>6251</th>\n",
       "      <th>6543</th>\n",
       "      <th>6575</th>\n",
       "      <th>7158</th>\n",
       "      <th>7346</th>\n",
       "      <th>8681</th>\n",
       "      <th>...</th>\n",
       "      <th>270713</th>\n",
       "      <th>271284</th>\n",
       "      <th>273979</th>\n",
       "      <th>274004</th>\n",
       "      <th>274061</th>\n",
       "      <th>274301</th>\n",
       "      <th>274308</th>\n",
       "      <th>275970</th>\n",
       "      <th>277427</th>\n",
       "      <th>278418</th>\n",
       "    </tr>\n",
       "    <tr>\n",
       "      <th>ISBN</th>\n",
       "      <th></th>\n",
       "      <th></th>\n",
       "      <th></th>\n",
       "      <th></th>\n",
       "      <th></th>\n",
       "      <th></th>\n",
       "      <th></th>\n",
       "      <th></th>\n",
       "      <th></th>\n",
       "      <th></th>\n",
       "      <th></th>\n",
       "      <th></th>\n",
       "      <th></th>\n",
       "      <th></th>\n",
       "      <th></th>\n",
       "      <th></th>\n",
       "      <th></th>\n",
       "      <th></th>\n",
       "      <th></th>\n",
       "      <th></th>\n",
       "      <th></th>\n",
       "    </tr>\n",
       "  </thead>\n",
       "  <tbody>\n",
       "  </tbody>\n",
       "</table>\n",
       "<p>0 rows × 539 columns</p>\n",
       "</div>"
      ],
      "text/plain": [
       "Empty DataFrame\n",
       "Columns: [254, 2276, 3363, 4385, 6251, 6543, 6575, 7158, 7346, 8681, 8936, 10819, 11601, 11676, 11993, 12538, 12982, 13273, 13552, 14422, 14521, 15408, 15418, 16634, 16795, 16916, 16966, 17950, 20115, 21014, 21252, 23288, 23768, 23872, 23902, 24921, 25409, 25981, 26516, 26535, 26544, 27617, 28204, 28523, 28591, 29259, 29855, 30276, 30511, 30533, 30711, 30972, 31315, 31556, 31826, 32195, 32440, 32721, 32773, 33974, 35050, 35857, 35859, 36606, 36609, 36836, 37567, 37712, 37950, 38023, 38273, 38781, 39281, 39467, 39616, 39646, 40889, 40943, 41841, 43246, 43842, 44728, 46398, 48494, 49109, 49889, 50225, 51386, 51450, 51883, 52199, 52203, 52584, 52614, 52853, 52917, 53174, 54218, 55187, 55490, ...]\n",
       "Index: []\n",
       "\n",
       "[0 rows x 539 columns]"
      ]
     },
     "execution_count": 28,
     "metadata": {},
     "output_type": "execute_result"
    }
   ],
   "source": [
    "piv_table[piv_table.index == '0618002227']"
   ]
  },
  {
   "cell_type": "code",
   "execution_count": 29,
   "id": "51d80845",
   "metadata": {
    "execution": {
     "iopub.execute_input": "2023-01-23T21:51:19.369715Z",
     "iopub.status.busy": "2023-01-23T21:51:19.368560Z",
     "iopub.status.idle": "2023-01-23T21:51:19.375818Z",
     "shell.execute_reply": "2023-01-23T21:51:19.374416Z"
    },
    "papermill": {
     "duration": 0.0269,
     "end_time": "2023-01-23T21:51:19.378637",
     "exception": false,
     "start_time": "2023-01-23T21:51:19.351737",
     "status": "completed"
    },
    "tags": []
   },
   "outputs": [],
   "source": [
    "test_book = piv_table[piv_table.index == '0618002227'].values"
   ]
  },
  {
   "cell_type": "code",
   "execution_count": 30,
   "id": "8c2fce4a",
   "metadata": {
    "execution": {
     "iopub.execute_input": "2023-01-23T21:51:19.414795Z",
     "iopub.status.busy": "2023-01-23T21:51:19.414283Z",
     "iopub.status.idle": "2023-01-23T21:51:19.421779Z",
     "shell.execute_reply": "2023-01-23T21:51:19.420464Z"
    },
    "papermill": {
     "duration": 0.029137,
     "end_time": "2023-01-23T21:51:19.424345",
     "exception": false,
     "start_time": "2023-01-23T21:51:19.395208",
     "status": "completed"
    },
    "tags": []
   },
   "outputs": [
    {
     "data": {
      "text/plain": [
       "array([], shape=(0, 539), dtype=float64)"
      ]
     },
     "execution_count": 30,
     "metadata": {},
     "output_type": "execute_result"
    }
   ],
   "source": [
    "test_book"
   ]
  },
  {
   "cell_type": "code",
   "execution_count": 31,
   "id": "2ffdd5c7",
   "metadata": {
    "execution": {
     "iopub.execute_input": "2023-01-23T21:51:19.458896Z",
     "iopub.status.busy": "2023-01-23T21:51:19.458420Z",
     "iopub.status.idle": "2023-01-23T21:51:19.463733Z",
     "shell.execute_reply": "2023-01-23T21:51:19.462418Z"
    },
    "papermill": {
     "duration": 0.02532,
     "end_time": "2023-01-23T21:51:19.466151",
     "exception": false,
     "start_time": "2023-01-23T21:51:19.440831",
     "status": "completed"
    },
    "tags": []
   },
   "outputs": [],
   "source": [
    "#model.kneighbors(test_book)"
   ]
  },
  {
   "cell_type": "code",
   "execution_count": 32,
   "id": "2edd0a15",
   "metadata": {
    "execution": {
     "iopub.execute_input": "2023-01-23T21:51:19.501399Z",
     "iopub.status.busy": "2023-01-23T21:51:19.500386Z",
     "iopub.status.idle": "2023-01-23T21:51:19.506248Z",
     "shell.execute_reply": "2023-01-23T21:51:19.504846Z"
    },
    "papermill": {
     "duration": 0.026037,
     "end_time": "2023-01-23T21:51:19.508646",
     "exception": false,
     "start_time": "2023-01-23T21:51:19.482609",
     "status": "completed"
    },
    "tags": []
   },
   "outputs": [],
   "source": [
    "#_, closest = model.kneighbors(test_book)"
   ]
  },
  {
   "cell_type": "markdown",
   "id": "80510b3f",
   "metadata": {
    "papermill": {
     "duration": 0.015469,
     "end_time": "2023-01-23T21:51:19.540334",
     "exception": false,
     "start_time": "2023-01-23T21:51:19.524865",
     "status": "completed"
    },
    "tags": []
   },
   "source": [
    "From the doc we are getting distances and the "
   ]
  },
  {
   "cell_type": "code",
   "execution_count": 33,
   "id": "4db00996",
   "metadata": {
    "execution": {
     "iopub.execute_input": "2023-01-23T21:51:19.576121Z",
     "iopub.status.busy": "2023-01-23T21:51:19.575635Z",
     "iopub.status.idle": "2023-01-23T21:51:19.580960Z",
     "shell.execute_reply": "2023-01-23T21:51:19.579638Z"
    },
    "papermill": {
     "duration": 0.026416,
     "end_time": "2023-01-23T21:51:19.583409",
     "exception": false,
     "start_time": "2023-01-23T21:51:19.556993",
     "status": "completed"
    },
    "tags": []
   },
   "outputs": [],
   "source": [
    "#for i in closest[:5]:\n",
    " #   print(i)"
   ]
  },
  {
   "cell_type": "code",
   "execution_count": 34,
   "id": "1ecb9742",
   "metadata": {
    "execution": {
     "iopub.execute_input": "2023-01-23T21:51:19.617957Z",
     "iopub.status.busy": "2023-01-23T21:51:19.617518Z",
     "iopub.status.idle": "2023-01-23T21:51:19.621912Z",
     "shell.execute_reply": "2023-01-23T21:51:19.621102Z"
    },
    "papermill": {
     "duration": 0.024243,
     "end_time": "2023-01-23T21:51:19.624200",
     "exception": false,
     "start_time": "2023-01-23T21:51:19.599957",
     "status": "completed"
    },
    "tags": []
   },
   "outputs": [],
   "source": [
    "#for i in closest[:5][0]:\n",
    "   # print(books[books['ISBN'] == piv_table.index[i]])"
   ]
  },
  {
   "cell_type": "code",
   "execution_count": 35,
   "id": "de6589c5",
   "metadata": {
    "execution": {
     "iopub.execute_input": "2023-01-23T21:51:19.658672Z",
     "iopub.status.busy": "2023-01-23T21:51:19.658259Z",
     "iopub.status.idle": "2023-01-23T21:51:21.602100Z",
     "shell.execute_reply": "2023-01-23T21:51:21.601033Z"
    },
    "papermill": {
     "duration": 1.964168,
     "end_time": "2023-01-23T21:51:21.604694",
     "exception": false,
     "start_time": "2023-01-23T21:51:19.640526",
     "status": "completed"
    },
    "tags": []
   },
   "outputs": [
    {
     "name": "stderr",
     "output_type": "stream",
     "text": [
      "/opt/conda/lib/python3.7/site-packages/IPython/core/interactiveshell.py:3552: DtypeWarning: Columns (3) have mixed types.Specify dtype option on import or set low_memory=False.\n",
      "  exec(code_obj, self.user_global_ns, self.user_ns)\n"
     ]
    }
   ],
   "source": [
    "books2 = pd.read_csv(\"../input/book-recommendation-dataset/Books.csv\")"
   ]
  },
  {
   "cell_type": "code",
   "execution_count": 36,
   "id": "e5729e0b",
   "metadata": {
    "execution": {
     "iopub.execute_input": "2023-01-23T21:51:21.640586Z",
     "iopub.status.busy": "2023-01-23T21:51:21.639743Z",
     "iopub.status.idle": "2023-01-23T21:51:22.546690Z",
     "shell.execute_reply": "2023-01-23T21:51:22.545707Z"
    },
    "papermill": {
     "duration": 0.927316,
     "end_time": "2023-01-23T21:51:22.549467",
     "exception": false,
     "start_time": "2023-01-23T21:51:21.622151",
     "status": "completed"
    },
    "tags": []
   },
   "outputs": [],
   "source": [
    "users2 = pd.read_csv(\"../input/book-recommendation-dataset/Users.csv\")\n",
    "ratings2 = pd.read_csv(\"../input/book-recommendation-dataset/Ratings.csv\")"
   ]
  },
  {
   "cell_type": "code",
   "execution_count": 37,
   "id": "6e9d3aec",
   "metadata": {
    "execution": {
     "iopub.execute_input": "2023-01-23T21:51:22.582348Z",
     "iopub.status.busy": "2023-01-23T21:51:22.581923Z",
     "iopub.status.idle": "2023-01-23T21:51:23.397133Z",
     "shell.execute_reply": "2023-01-23T21:51:23.395826Z"
    },
    "papermill": {
     "duration": 0.835212,
     "end_time": "2023-01-23T21:51:23.400001",
     "exception": false,
     "start_time": "2023-01-23T21:51:22.564789",
     "status": "completed"
    },
    "tags": []
   },
   "outputs": [
    {
     "data": {
      "text/html": [
       "<div>\n",
       "<style scoped>\n",
       "    .dataframe tbody tr th:only-of-type {\n",
       "        vertical-align: middle;\n",
       "    }\n",
       "\n",
       "    .dataframe tbody tr th {\n",
       "        vertical-align: top;\n",
       "    }\n",
       "\n",
       "    .dataframe thead th {\n",
       "        text-align: right;\n",
       "    }\n",
       "</style>\n",
       "<table border=\"1\" class=\"dataframe\">\n",
       "  <thead>\n",
       "    <tr style=\"text-align: right;\">\n",
       "      <th></th>\n",
       "      <th>ISBN</th>\n",
       "      <th>Book-Title</th>\n",
       "      <th>Book-Author</th>\n",
       "      <th>Year-Of-Publication</th>\n",
       "      <th>Publisher</th>\n",
       "      <th>Image-URL-S</th>\n",
       "      <th>Image-URL-M</th>\n",
       "      <th>Image-URL-L</th>\n",
       "      <th>User-ID</th>\n",
       "      <th>Book-Rating</th>\n",
       "    </tr>\n",
       "  </thead>\n",
       "  <tbody>\n",
       "    <tr>\n",
       "      <th>0</th>\n",
       "      <td>0195153448</td>\n",
       "      <td>Classical Mythology</td>\n",
       "      <td>Mark P. O. Morford</td>\n",
       "      <td>2002</td>\n",
       "      <td>Oxford University Press</td>\n",
       "      <td>http://images.amazon.com/images/P/0195153448.0...</td>\n",
       "      <td>http://images.amazon.com/images/P/0195153448.0...</td>\n",
       "      <td>http://images.amazon.com/images/P/0195153448.0...</td>\n",
       "      <td>2</td>\n",
       "      <td>0</td>\n",
       "    </tr>\n",
       "    <tr>\n",
       "      <th>1</th>\n",
       "      <td>0002005018</td>\n",
       "      <td>Clara Callan</td>\n",
       "      <td>Richard Bruce Wright</td>\n",
       "      <td>2001</td>\n",
       "      <td>HarperFlamingo Canada</td>\n",
       "      <td>http://images.amazon.com/images/P/0002005018.0...</td>\n",
       "      <td>http://images.amazon.com/images/P/0002005018.0...</td>\n",
       "      <td>http://images.amazon.com/images/P/0002005018.0...</td>\n",
       "      <td>8</td>\n",
       "      <td>5</td>\n",
       "    </tr>\n",
       "    <tr>\n",
       "      <th>2</th>\n",
       "      <td>0002005018</td>\n",
       "      <td>Clara Callan</td>\n",
       "      <td>Richard Bruce Wright</td>\n",
       "      <td>2001</td>\n",
       "      <td>HarperFlamingo Canada</td>\n",
       "      <td>http://images.amazon.com/images/P/0002005018.0...</td>\n",
       "      <td>http://images.amazon.com/images/P/0002005018.0...</td>\n",
       "      <td>http://images.amazon.com/images/P/0002005018.0...</td>\n",
       "      <td>11400</td>\n",
       "      <td>0</td>\n",
       "    </tr>\n",
       "  </tbody>\n",
       "</table>\n",
       "</div>"
      ],
      "text/plain": [
       "         ISBN           Book-Title           Book-Author Year-Of-Publication  \\\n",
       "0  0195153448  Classical Mythology    Mark P. O. Morford                2002   \n",
       "1  0002005018         Clara Callan  Richard Bruce Wright                2001   \n",
       "2  0002005018         Clara Callan  Richard Bruce Wright                2001   \n",
       "\n",
       "                 Publisher                                        Image-URL-S  \\\n",
       "0  Oxford University Press  http://images.amazon.com/images/P/0195153448.0...   \n",
       "1    HarperFlamingo Canada  http://images.amazon.com/images/P/0002005018.0...   \n",
       "2    HarperFlamingo Canada  http://images.amazon.com/images/P/0002005018.0...   \n",
       "\n",
       "                                         Image-URL-M  \\\n",
       "0  http://images.amazon.com/images/P/0195153448.0...   \n",
       "1  http://images.amazon.com/images/P/0002005018.0...   \n",
       "2  http://images.amazon.com/images/P/0002005018.0...   \n",
       "\n",
       "                                         Image-URL-L  User-ID  Book-Rating  \n",
       "0  http://images.amazon.com/images/P/0195153448.0...        2            0  \n",
       "1  http://images.amazon.com/images/P/0002005018.0...        8            5  \n",
       "2  http://images.amazon.com/images/P/0002005018.0...    11400            0  "
      ]
     },
     "execution_count": 37,
     "metadata": {},
     "output_type": "execute_result"
    }
   ],
   "source": [
    "new_df=books2.merge(ratings2,on='ISBN')\n",
    "new_df.head(3)"
   ]
  },
  {
   "cell_type": "code",
   "execution_count": 38,
   "id": "48c33790",
   "metadata": {
    "execution": {
     "iopub.execute_input": "2023-01-23T21:51:23.434630Z",
     "iopub.status.busy": "2023-01-23T21:51:23.434129Z",
     "iopub.status.idle": "2023-01-23T21:51:23.442043Z",
     "shell.execute_reply": "2023-01-23T21:51:23.440902Z"
    },
    "papermill": {
     "duration": 0.027579,
     "end_time": "2023-01-23T21:51:23.444484",
     "exception": false,
     "start_time": "2023-01-23T21:51:23.416905",
     "status": "completed"
    },
    "tags": []
   },
   "outputs": [
    {
     "data": {
      "text/plain": [
       "(1031136, 10)"
      ]
     },
     "execution_count": 38,
     "metadata": {},
     "output_type": "execute_result"
    }
   ],
   "source": [
    "new_df.shape"
   ]
  },
  {
   "cell_type": "code",
   "execution_count": 39,
   "id": "a03b1e77",
   "metadata": {
    "execution": {
     "iopub.execute_input": "2023-01-23T21:51:23.478729Z",
     "iopub.status.busy": "2023-01-23T21:51:23.478291Z",
     "iopub.status.idle": "2023-01-23T21:51:24.746115Z",
     "shell.execute_reply": "2023-01-23T21:51:24.745209Z"
    },
    "papermill": {
     "duration": 1.28804,
     "end_time": "2023-01-23T21:51:24.748590",
     "exception": false,
     "start_time": "2023-01-23T21:51:23.460550",
     "status": "completed"
    },
    "tags": []
   },
   "outputs": [
    {
     "data": {
      "text/html": [
       "<div>\n",
       "<style scoped>\n",
       "    .dataframe tbody tr th:only-of-type {\n",
       "        vertical-align: middle;\n",
       "    }\n",
       "\n",
       "    .dataframe tbody tr th {\n",
       "        vertical-align: top;\n",
       "    }\n",
       "\n",
       "    .dataframe thead th {\n",
       "        text-align: right;\n",
       "    }\n",
       "</style>\n",
       "<table border=\"1\" class=\"dataframe\">\n",
       "  <thead>\n",
       "    <tr style=\"text-align: right;\">\n",
       "      <th></th>\n",
       "      <th>Book-Title</th>\n",
       "      <th>Num_of_ratings</th>\n",
       "    </tr>\n",
       "  </thead>\n",
       "  <tbody>\n",
       "    <tr>\n",
       "      <th>0</th>\n",
       "      <td>A Light in the Storm: The Civil War Diary of ...</td>\n",
       "      <td>4</td>\n",
       "    </tr>\n",
       "    <tr>\n",
       "      <th>1</th>\n",
       "      <td>Always Have Popsicles</td>\n",
       "      <td>1</td>\n",
       "    </tr>\n",
       "    <tr>\n",
       "      <th>2</th>\n",
       "      <td>Apple Magic (The Collector's series)</td>\n",
       "      <td>1</td>\n",
       "    </tr>\n",
       "    <tr>\n",
       "      <th>3</th>\n",
       "      <td>Ask Lily (Young Women of Faith: Lily Series, ...</td>\n",
       "      <td>1</td>\n",
       "    </tr>\n",
       "    <tr>\n",
       "      <th>4</th>\n",
       "      <td>Beyond IBM: Leadership Marketing and Finance ...</td>\n",
       "      <td>1</td>\n",
       "    </tr>\n",
       "  </tbody>\n",
       "</table>\n",
       "</div>"
      ],
      "text/plain": [
       "                                          Book-Title  Num_of_ratings\n",
       "0   A Light in the Storm: The Civil War Diary of ...               4\n",
       "1                              Always Have Popsicles               1\n",
       "2               Apple Magic (The Collector's series)               1\n",
       "3   Ask Lily (Young Women of Faith: Lily Series, ...               1\n",
       "4   Beyond IBM: Leadership Marketing and Finance ...               1"
      ]
     },
     "execution_count": 39,
     "metadata": {},
     "output_type": "execute_result"
    }
   ],
   "source": [
    "df_with_num_ratings=new_df.groupby(['Book-Title']).count().reset_index()[['Book-Title','Book-Rating']].rename(columns={'Book-Rating':'Num_of_ratings'})\n",
    "df_with_num_ratings.head()"
   ]
  },
  {
   "cell_type": "code",
   "execution_count": 40,
   "id": "6cf7225d",
   "metadata": {
    "execution": {
     "iopub.execute_input": "2023-01-23T21:51:24.784132Z",
     "iopub.status.busy": "2023-01-23T21:51:24.783111Z",
     "iopub.status.idle": "2023-01-23T21:51:24.791037Z",
     "shell.execute_reply": "2023-01-23T21:51:24.789738Z"
    },
    "papermill": {
     "duration": 0.027521,
     "end_time": "2023-01-23T21:51:24.793379",
     "exception": false,
     "start_time": "2023-01-23T21:51:24.765858",
     "status": "completed"
    },
    "tags": []
   },
   "outputs": [
    {
     "data": {
      "text/plain": [
       "(241071, 2)"
      ]
     },
     "execution_count": 40,
     "metadata": {},
     "output_type": "execute_result"
    }
   ],
   "source": [
    "df_with_num_ratings.shape"
   ]
  },
  {
   "cell_type": "code",
   "execution_count": 41,
   "id": "e0eb2c9a",
   "metadata": {
    "execution": {
     "iopub.execute_input": "2023-01-23T21:51:24.827493Z",
     "iopub.status.busy": "2023-01-23T21:51:24.827098Z",
     "iopub.status.idle": "2023-01-23T21:51:25.701171Z",
     "shell.execute_reply": "2023-01-23T21:51:25.699795Z"
    },
    "papermill": {
     "duration": 0.894368,
     "end_time": "2023-01-23T21:51:25.703879",
     "exception": false,
     "start_time": "2023-01-23T21:51:24.809511",
     "status": "completed"
    },
    "tags": []
   },
   "outputs": [
    {
     "data": {
      "text/html": [
       "<div>\n",
       "<style scoped>\n",
       "    .dataframe tbody tr th:only-of-type {\n",
       "        vertical-align: middle;\n",
       "    }\n",
       "\n",
       "    .dataframe tbody tr th {\n",
       "        vertical-align: top;\n",
       "    }\n",
       "\n",
       "    .dataframe thead th {\n",
       "        text-align: right;\n",
       "    }\n",
       "</style>\n",
       "<table border=\"1\" class=\"dataframe\">\n",
       "  <thead>\n",
       "    <tr style=\"text-align: right;\">\n",
       "      <th></th>\n",
       "      <th>Book-Title</th>\n",
       "      <th>avg_ratings</th>\n",
       "    </tr>\n",
       "  </thead>\n",
       "  <tbody>\n",
       "    <tr>\n",
       "      <th>0</th>\n",
       "      <td>A Light in the Storm: The Civil War Diary of ...</td>\n",
       "      <td>2.25</td>\n",
       "    </tr>\n",
       "    <tr>\n",
       "      <th>1</th>\n",
       "      <td>Always Have Popsicles</td>\n",
       "      <td>0.00</td>\n",
       "    </tr>\n",
       "    <tr>\n",
       "      <th>2</th>\n",
       "      <td>Apple Magic (The Collector's series)</td>\n",
       "      <td>0.00</td>\n",
       "    </tr>\n",
       "    <tr>\n",
       "      <th>3</th>\n",
       "      <td>Ask Lily (Young Women of Faith: Lily Series, ...</td>\n",
       "      <td>8.00</td>\n",
       "    </tr>\n",
       "    <tr>\n",
       "      <th>4</th>\n",
       "      <td>Beyond IBM: Leadership Marketing and Finance ...</td>\n",
       "      <td>0.00</td>\n",
       "    </tr>\n",
       "  </tbody>\n",
       "</table>\n",
       "</div>"
      ],
      "text/plain": [
       "                                          Book-Title  avg_ratings\n",
       "0   A Light in the Storm: The Civil War Diary of ...         2.25\n",
       "1                              Always Have Popsicles         0.00\n",
       "2               Apple Magic (The Collector's series)         0.00\n",
       "3   Ask Lily (Young Women of Faith: Lily Series, ...         8.00\n",
       "4   Beyond IBM: Leadership Marketing and Finance ...         0.00"
      ]
     },
     "execution_count": 41,
     "metadata": {},
     "output_type": "execute_result"
    }
   ],
   "source": [
    "df_with_avg_ratings=new_df.groupby(['Book-Title']).mean().reset_index()[['Book-Title','Book-Rating']].rename(columns={'Book-Rating':'avg_ratings'})\n",
    "df_with_avg_ratings.head()"
   ]
  },
  {
   "cell_type": "code",
   "execution_count": 42,
   "id": "ca485983",
   "metadata": {
    "execution": {
     "iopub.execute_input": "2023-01-23T21:51:25.739226Z",
     "iopub.status.busy": "2023-01-23T21:51:25.738783Z",
     "iopub.status.idle": "2023-01-23T21:51:25.746362Z",
     "shell.execute_reply": "2023-01-23T21:51:25.745156Z"
    },
    "papermill": {
     "duration": 0.027673,
     "end_time": "2023-01-23T21:51:25.748599",
     "exception": false,
     "start_time": "2023-01-23T21:51:25.720926",
     "status": "completed"
    },
    "tags": []
   },
   "outputs": [
    {
     "data": {
      "text/plain": [
       "(241071, 2)"
      ]
     },
     "execution_count": 42,
     "metadata": {},
     "output_type": "execute_result"
    }
   ],
   "source": [
    "df_with_avg_ratings.shape"
   ]
  },
  {
   "cell_type": "code",
   "execution_count": 43,
   "id": "e9a597ca",
   "metadata": {
    "execution": {
     "iopub.execute_input": "2023-01-23T21:51:25.783203Z",
     "iopub.status.busy": "2023-01-23T21:51:25.782818Z",
     "iopub.status.idle": "2023-01-23T21:51:26.069894Z",
     "shell.execute_reply": "2023-01-23T21:51:26.068995Z"
    },
    "papermill": {
     "duration": 0.307331,
     "end_time": "2023-01-23T21:51:26.072264",
     "exception": false,
     "start_time": "2023-01-23T21:51:25.764933",
     "status": "completed"
    },
    "tags": []
   },
   "outputs": [
    {
     "data": {
      "text/html": [
       "<div>\n",
       "<style scoped>\n",
       "    .dataframe tbody tr th:only-of-type {\n",
       "        vertical-align: middle;\n",
       "    }\n",
       "\n",
       "    .dataframe tbody tr th {\n",
       "        vertical-align: top;\n",
       "    }\n",
       "\n",
       "    .dataframe thead th {\n",
       "        text-align: right;\n",
       "    }\n",
       "</style>\n",
       "<table border=\"1\" class=\"dataframe\">\n",
       "  <thead>\n",
       "    <tr style=\"text-align: right;\">\n",
       "      <th></th>\n",
       "      <th>Book-Title</th>\n",
       "      <th>Num_of_ratings</th>\n",
       "      <th>avg_ratings</th>\n",
       "    </tr>\n",
       "  </thead>\n",
       "  <tbody>\n",
       "    <tr>\n",
       "      <th>234951</th>\n",
       "      <td>Wild Animus</td>\n",
       "      <td>2502</td>\n",
       "      <td>1.019584</td>\n",
       "    </tr>\n",
       "    <tr>\n",
       "      <th>196326</th>\n",
       "      <td>The Lovely Bones: A Novel</td>\n",
       "      <td>1295</td>\n",
       "      <td>4.468726</td>\n",
       "    </tr>\n",
       "    <tr>\n",
       "      <th>183573</th>\n",
       "      <td>The Da Vinci Code</td>\n",
       "      <td>898</td>\n",
       "      <td>4.642539</td>\n",
       "    </tr>\n",
       "    <tr>\n",
       "      <th>5303</th>\n",
       "      <td>A Painted House</td>\n",
       "      <td>838</td>\n",
       "      <td>3.231504</td>\n",
       "    </tr>\n",
       "    <tr>\n",
       "      <th>199237</th>\n",
       "      <td>The Nanny Diaries: A Novel</td>\n",
       "      <td>828</td>\n",
       "      <td>3.530193</td>\n",
       "    </tr>\n",
       "    <tr>\n",
       "      <th>27922</th>\n",
       "      <td>Bridget Jones's Diary</td>\n",
       "      <td>815</td>\n",
       "      <td>3.527607</td>\n",
       "    </tr>\n",
       "    <tr>\n",
       "      <th>206502</th>\n",
       "      <td>The Secret Life of Bees</td>\n",
       "      <td>774</td>\n",
       "      <td>4.447028</td>\n",
       "    </tr>\n",
       "  </tbody>\n",
       "</table>\n",
       "</div>"
      ],
      "text/plain": [
       "                        Book-Title  Num_of_ratings  avg_ratings\n",
       "234951                 Wild Animus            2502     1.019584\n",
       "196326   The Lovely Bones: A Novel            1295     4.468726\n",
       "183573           The Da Vinci Code             898     4.642539\n",
       "5303               A Painted House             838     3.231504\n",
       "199237  The Nanny Diaries: A Novel             828     3.530193\n",
       "27922        Bridget Jones's Diary             815     3.527607\n",
       "206502     The Secret Life of Bees             774     4.447028"
      ]
     },
     "execution_count": 43,
     "metadata": {},
     "output_type": "execute_result"
    }
   ],
   "source": [
    "books_sorted=df_with_num_ratings.merge(df_with_avg_ratings,on='Book-Title').sort_values(by=['Num_of_ratings'],ascending=False)\n",
    "books_sorted.head(7)"
   ]
  },
  {
   "cell_type": "code",
   "execution_count": 44,
   "id": "20ecad92",
   "metadata": {
    "execution": {
     "iopub.execute_input": "2023-01-23T21:51:26.110465Z",
     "iopub.status.busy": "2023-01-23T21:51:26.110003Z",
     "iopub.status.idle": "2023-01-23T21:51:26.126835Z",
     "shell.execute_reply": "2023-01-23T21:51:26.125615Z"
    },
    "papermill": {
     "duration": 0.039502,
     "end_time": "2023-01-23T21:51:26.129957",
     "exception": false,
     "start_time": "2023-01-23T21:51:26.090455",
     "status": "completed"
    },
    "tags": []
   },
   "outputs": [
    {
     "data": {
      "text/html": [
       "<div>\n",
       "<style scoped>\n",
       "    .dataframe tbody tr th:only-of-type {\n",
       "        vertical-align: middle;\n",
       "    }\n",
       "\n",
       "    .dataframe tbody tr th {\n",
       "        vertical-align: top;\n",
       "    }\n",
       "\n",
       "    .dataframe thead th {\n",
       "        text-align: right;\n",
       "    }\n",
       "</style>\n",
       "<table border=\"1\" class=\"dataframe\">\n",
       "  <thead>\n",
       "    <tr style=\"text-align: right;\">\n",
       "      <th></th>\n",
       "      <th>Book-Title</th>\n",
       "      <th>Num_of_ratings</th>\n",
       "      <th>avg_ratings</th>\n",
       "    </tr>\n",
       "  </thead>\n",
       "  <tbody>\n",
       "    <tr>\n",
       "      <th>80434</th>\n",
       "      <td>Harry Potter and the Prisoner of Azkaban (Book 3)</td>\n",
       "      <td>428</td>\n",
       "      <td>5.852804</td>\n",
       "    </tr>\n",
       "    <tr>\n",
       "      <th>80422</th>\n",
       "      <td>Harry Potter and the Goblet of Fire (Book 4)</td>\n",
       "      <td>387</td>\n",
       "      <td>5.824289</td>\n",
       "    </tr>\n",
       "    <tr>\n",
       "      <th>80426</th>\n",
       "      <td>Harry Potter and the Order of the Phoenix (Boo...</td>\n",
       "      <td>347</td>\n",
       "      <td>5.501441</td>\n",
       "    </tr>\n",
       "    <tr>\n",
       "      <th>80414</th>\n",
       "      <td>Harry Potter and the Chamber of Secrets (Book 2)</td>\n",
       "      <td>556</td>\n",
       "      <td>5.183453</td>\n",
       "    </tr>\n",
       "    <tr>\n",
       "      <th>187377</th>\n",
       "      <td>The Fellowship of the Ring (The Lord of the Ri...</td>\n",
       "      <td>368</td>\n",
       "      <td>4.948370</td>\n",
       "    </tr>\n",
       "    <tr>\n",
       "      <th>80445</th>\n",
       "      <td>Harry Potter and the Sorcerer's Stone (Harry P...</td>\n",
       "      <td>575</td>\n",
       "      <td>4.895652</td>\n",
       "    </tr>\n",
       "    <tr>\n",
       "      <th>219741</th>\n",
       "      <td>To Kill a Mockingbird</td>\n",
       "      <td>510</td>\n",
       "      <td>4.700000</td>\n",
       "    </tr>\n",
       "    <tr>\n",
       "      <th>183573</th>\n",
       "      <td>The Da Vinci Code</td>\n",
       "      <td>898</td>\n",
       "      <td>4.642539</td>\n",
       "    </tr>\n",
       "    <tr>\n",
       "      <th>187880</th>\n",
       "      <td>The Five People You Meet in Heaven</td>\n",
       "      <td>430</td>\n",
       "      <td>4.551163</td>\n",
       "    </tr>\n",
       "    <tr>\n",
       "      <th>180556</th>\n",
       "      <td>The Catcher in the Rye</td>\n",
       "      <td>449</td>\n",
       "      <td>4.545657</td>\n",
       "    </tr>\n",
       "  </tbody>\n",
       "</table>\n",
       "</div>"
      ],
      "text/plain": [
       "                                               Book-Title  Num_of_ratings  \\\n",
       "80434   Harry Potter and the Prisoner of Azkaban (Book 3)             428   \n",
       "80422        Harry Potter and the Goblet of Fire (Book 4)             387   \n",
       "80426   Harry Potter and the Order of the Phoenix (Boo...             347   \n",
       "80414    Harry Potter and the Chamber of Secrets (Book 2)             556   \n",
       "187377  The Fellowship of the Ring (The Lord of the Ri...             368   \n",
       "80445   Harry Potter and the Sorcerer's Stone (Harry P...             575   \n",
       "219741                              To Kill a Mockingbird             510   \n",
       "183573                                  The Da Vinci Code             898   \n",
       "187880                 The Five People You Meet in Heaven             430   \n",
       "180556                             The Catcher in the Rye             449   \n",
       "\n",
       "        avg_ratings  \n",
       "80434      5.852804  \n",
       "80422      5.824289  \n",
       "80426      5.501441  \n",
       "80414      5.183453  \n",
       "187377     4.948370  \n",
       "80445      4.895652  \n",
       "219741     4.700000  \n",
       "183573     4.642539  \n",
       "187880     4.551163  \n",
       "180556     4.545657  "
      ]
     },
     "execution_count": 44,
     "metadata": {},
     "output_type": "execute_result"
    }
   ],
   "source": [
    "popular_books=books_sorted[books_sorted['Num_of_ratings']>300].sort_values(by=['avg_ratings'],ascending=False).head(100)\n",
    "popular_books.head(10)"
   ]
  },
  {
   "cell_type": "code",
   "execution_count": 45,
   "id": "a3b829cf",
   "metadata": {
    "execution": {
     "iopub.execute_input": "2023-01-23T21:51:26.168097Z",
     "iopub.status.busy": "2023-01-23T21:51:26.167252Z",
     "iopub.status.idle": "2023-01-23T21:51:26.174641Z",
     "shell.execute_reply": "2023-01-23T21:51:26.173390Z"
    },
    "papermill": {
     "duration": 0.028627,
     "end_time": "2023-01-23T21:51:26.177002",
     "exception": false,
     "start_time": "2023-01-23T21:51:26.148375",
     "status": "completed"
    },
    "tags": []
   },
   "outputs": [
    {
     "data": {
      "text/plain": [
       "(100, 3)"
      ]
     },
     "execution_count": 45,
     "metadata": {},
     "output_type": "execute_result"
    }
   ],
   "source": [
    "popular_books.shape"
   ]
  },
  {
   "cell_type": "code",
   "execution_count": 46,
   "id": "58cb3374",
   "metadata": {
    "execution": {
     "iopub.execute_input": "2023-01-23T21:51:26.212679Z",
     "iopub.status.busy": "2023-01-23T21:51:26.212235Z",
     "iopub.status.idle": "2023-01-23T21:51:26.440448Z",
     "shell.execute_reply": "2023-01-23T21:51:26.438863Z"
    },
    "papermill": {
     "duration": 0.249108,
     "end_time": "2023-01-23T21:51:26.443343",
     "exception": false,
     "start_time": "2023-01-23T21:51:26.194235",
     "status": "completed"
    },
    "tags": []
   },
   "outputs": [],
   "source": [
    "popular_books=popular_books.merge(books2,on='Book-Title').drop_duplicates('Book-Title')[['Book-Title','Num_of_ratings','avg_ratings']]\n"
   ]
  },
  {
   "cell_type": "code",
   "execution_count": 47,
   "id": "5a3f11e3",
   "metadata": {
    "execution": {
     "iopub.execute_input": "2023-01-23T21:51:26.482359Z",
     "iopub.status.busy": "2023-01-23T21:51:26.481976Z",
     "iopub.status.idle": "2023-01-23T21:51:26.493920Z",
     "shell.execute_reply": "2023-01-23T21:51:26.492653Z"
    },
    "papermill": {
     "duration": 0.034405,
     "end_time": "2023-01-23T21:51:26.496366",
     "exception": false,
     "start_time": "2023-01-23T21:51:26.461961",
     "status": "completed"
    },
    "tags": []
   },
   "outputs": [
    {
     "data": {
      "text/html": [
       "<div>\n",
       "<style scoped>\n",
       "    .dataframe tbody tr th:only-of-type {\n",
       "        vertical-align: middle;\n",
       "    }\n",
       "\n",
       "    .dataframe tbody tr th {\n",
       "        vertical-align: top;\n",
       "    }\n",
       "\n",
       "    .dataframe thead th {\n",
       "        text-align: right;\n",
       "    }\n",
       "</style>\n",
       "<table border=\"1\" class=\"dataframe\">\n",
       "  <thead>\n",
       "    <tr style=\"text-align: right;\">\n",
       "      <th></th>\n",
       "      <th>Book-Title</th>\n",
       "      <th>Num_of_ratings</th>\n",
       "      <th>avg_ratings</th>\n",
       "    </tr>\n",
       "  </thead>\n",
       "  <tbody>\n",
       "    <tr>\n",
       "      <th>0</th>\n",
       "      <td>Harry Potter and the Prisoner of Azkaban (Book 3)</td>\n",
       "      <td>428</td>\n",
       "      <td>5.852804</td>\n",
       "    </tr>\n",
       "    <tr>\n",
       "      <th>3</th>\n",
       "      <td>Harry Potter and the Goblet of Fire (Book 4)</td>\n",
       "      <td>387</td>\n",
       "      <td>5.824289</td>\n",
       "    </tr>\n",
       "    <tr>\n",
       "      <th>5</th>\n",
       "      <td>Harry Potter and the Order of the Phoenix (Boo...</td>\n",
       "      <td>347</td>\n",
       "      <td>5.501441</td>\n",
       "    </tr>\n",
       "    <tr>\n",
       "      <th>9</th>\n",
       "      <td>Harry Potter and the Chamber of Secrets (Book 2)</td>\n",
       "      <td>556</td>\n",
       "      <td>5.183453</td>\n",
       "    </tr>\n",
       "    <tr>\n",
       "      <th>12</th>\n",
       "      <td>The Fellowship of the Ring (The Lord of the Ri...</td>\n",
       "      <td>368</td>\n",
       "      <td>4.948370</td>\n",
       "    </tr>\n",
       "  </tbody>\n",
       "</table>\n",
       "</div>"
      ],
      "text/plain": [
       "                                           Book-Title  Num_of_ratings  \\\n",
       "0   Harry Potter and the Prisoner of Azkaban (Book 3)             428   \n",
       "3        Harry Potter and the Goblet of Fire (Book 4)             387   \n",
       "5   Harry Potter and the Order of the Phoenix (Boo...             347   \n",
       "9    Harry Potter and the Chamber of Secrets (Book 2)             556   \n",
       "12  The Fellowship of the Ring (The Lord of the Ri...             368   \n",
       "\n",
       "    avg_ratings  \n",
       "0      5.852804  \n",
       "3      5.824289  \n",
       "5      5.501441  \n",
       "9      5.183453  \n",
       "12     4.948370  "
      ]
     },
     "execution_count": 47,
     "metadata": {},
     "output_type": "execute_result"
    }
   ],
   "source": [
    "popular_books.head()"
   ]
  },
  {
   "cell_type": "code",
   "execution_count": 48,
   "id": "8770a691",
   "metadata": {
    "execution": {
     "iopub.execute_input": "2023-01-23T21:51:26.537025Z",
     "iopub.status.busy": "2023-01-23T21:51:26.536367Z",
     "iopub.status.idle": "2023-01-23T21:51:26.851150Z",
     "shell.execute_reply": "2023-01-23T21:51:26.849836Z"
    },
    "papermill": {
     "duration": 0.33985,
     "end_time": "2023-01-23T21:51:26.855063",
     "exception": false,
     "start_time": "2023-01-23T21:51:26.515213",
     "status": "completed"
    },
    "tags": []
   },
   "outputs": [
    {
     "data": {
      "image/png": "[encoded data removed]",
      "text/plain": [
       "<Figure size 864x720 with 1 Axes>"
      ]
     },
     "metadata": {
      "needs_background": "light"
     },
     "output_type": "display_data"
    }
   ],
   "source": [
    "plt.figure(figsize=(7,5))\n",
    "sns.barplot(x=popular_books['avg_ratings'].head(4),y=popular_books['Book-Title'].head(4));"
   ]
  },
  {
   "cell_type": "code",
   "execution_count": 49,
   "id": "b396610b",
   "metadata": {
    "execution": {
     "iopub.execute_input": "2023-01-23T21:51:26.895190Z",
     "iopub.status.busy": "2023-01-23T21:51:26.894666Z",
     "iopub.status.idle": "2023-01-23T21:51:27.259432Z",
     "shell.execute_reply": "2023-01-23T21:51:27.258100Z"
    },
    "papermill": {
     "duration": 0.38766,
     "end_time": "2023-01-23T21:51:27.262220",
     "exception": false,
     "start_time": "2023-01-23T21:51:26.874560",
     "status": "completed"
    },
    "tags": []
   },
   "outputs": [
    {
     "data": {
      "image/png": "[encoded data removed]",
      "text/plain": [
       "<Figure size 864x720 with 1 Axes>"
      ]
     },
     "metadata": {
      "needs_background": "light"
     },
     "output_type": "display_data"
    }
   ],
   "source": [
    "plt.figure(figsize=(18,8))\n",
    "sns.barplot(x=popular_books['Num_of_ratings'].head(15),y=popular_books['Book-Title'].head(15));"
   ]
  }
 ],
 "metadata": {
  "kernelspec": {
   "display_name": "Python 3",
   "language": "python",
   "name": "python3"
  },
  "language_info": {
   "codemirror_mode": {
    "name": "ipython",
    "version": 3
   },
   "file_extension": ".py",
   "mimetype": "text/x-python",
   "name": "python",
   "nbconvert_exporter": "python",
   "pygments_lexer": "ipython3",
   "version": "3.7.12"
  },
  "papermill": {
   "default_parameters": {},
   "duration": 27.406377,
   "end_time": "2023-01-23T21:51:28.406631",
   "environment_variables": {},
   "exception": null,
   "input_path": "__notebook__.ipynb",
   "output_path": "__notebook__.ipynb",
   "parameters": {},
   "start_time": "2023-01-23T21:51:01.000254",
   "version": "2.3.4"
  }
 },
 "nbformat": 4,
 "nbformat_minor": 5
}
